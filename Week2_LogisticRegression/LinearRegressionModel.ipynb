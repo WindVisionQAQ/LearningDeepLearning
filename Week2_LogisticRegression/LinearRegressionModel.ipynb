{
 "cells": [
  {
   "cell_type": "markdown",
   "metadata": {},
   "source": [
    "### 首先引入需要的库\n",
    "+ numpy\n",
    "+ h5py:用于读取h5格式的数据文件\n",
    "+ matplotlib: 用于绘制图表\n",
    "+ lr_utils: 文件已给出，用于加载h5中的数据"
   ]
  },
  {
   "cell_type": "code",
   "execution_count": 11,
   "metadata": {},
   "outputs": [
    {
     "name": "stdout",
     "output_type": "stream",
     "text": [
      "size of the training set data:(209, 64, 64, 3)\n",
      "size of the training set label:(1, 209)\n",
      "type of classes:<class 'numpy.ndarray'>\n",
      "content of classes:[b'non-cat' b'cat']\n"
     ]
    }
   ],
   "source": [
    "import numpy as np\n",
    "import matplotlib.pyplot as plt\n",
    "import h5py\n",
    "from lr_utils import load_dataset\n",
    "train_set_x_orig, train_set_y_orig,test_set_x_orig,test_set_y_orig,classes=load_dataset()\n",
    "print(\"size of the training set data:\"+str(train_set_x_orig.shape))\n",
    "print(\"size of the training set label:\"+str(train_set_y_orig.shape))\n",
    "print(\"type of classes:\"+str(type(classes)))\n",
    "print(\"content of classes:\"+str(classes))"
   ]
  },
  {
   "cell_type": "markdown",
   "metadata": {},
   "source": [
    "读取h5数据文件后：\n",
    "+ train_set_x_orig: 表示原始训练数据，储存了209幅64*64的RGB图像\n",
    "+ train_set_y_orig：每张图片的类型，0表示不是猫，1表示是猫\n",
    "+ test_set_x_orig, test_set_y_orig的意义与训练集相同\n",
    "+ classes:储存图片类型的列表，在这一project中由于是二分类问题，只有两种类型：cat和non-cat"
   ]
  },
  {
   "cell_type": "code",
   "execution_count": 12,
   "metadata": {},
   "outputs": [
    {
     "data": {
      "text/plain": [
       "<matplotlib.image.AxesImage at 0x2a699858208>"
      ]
     },
     "execution_count": 12,
     "metadata": {},
     "output_type": "execute_result"
    },
    {
     "data": {
      "image/png": "[encoded data removed]",
      "text/plain": [
       "<Figure size 432x288 with 1 Axes>"
      ]
     },
     "metadata": {
      "needs_background": "light"
     },
     "output_type": "display_data"
    }
   ],
   "source": [
    "index=1\n",
    "plt.imshow(train_set_x_orig[index])"
   ]
  },
  {
   "cell_type": "code",
   "execution_count": 14,
   "metadata": {},
   "outputs": [],
   "source": [
    "m_train = train_set_y_orig.shape[1] #训练数据个数\n",
    "m_test = test_set_y_orig.shape[1] #测试数据个数\n",
    "num_px = train_set_x_orig.shape[1] #训练数据（图片）的边长像素数"
   ]
  },
  {
   "cell_type": "markdown",
   "metadata": {},
   "source": [
    "### 图片是一个64x64x3的三维矩阵，将其unroll为向量便于训练\n",
    "reshape函数中的-1参数表示由系统计算列数\n",
    "同时为了训练数据矩阵X满足Ng课上的形式，将unroll后的矩阵进行转置，使其每列都是一个图片像素数据。"
   ]
  },
  {
   "cell_type": "code",
   "execution_count": 15,
   "metadata": {},
   "outputs": [
    {
     "name": "stdout",
     "output_type": "stream",
     "text": [
      "train data size after unrolling:(12288, 209)\n",
      "test data size after unrolling:(12288, 50)\n"
     ]
    }
   ],
   "source": [
    "train_set_x_unroll = train_set_x_orig.reshape(train_set_y_orig.shape[1],-1).T\n",
    "test_set_x_unroll = test_set_x_orig.reshape(test_set_y_orig.shape[-1],-1).T\n",
    "print(\"train data size after unrolling:\"+str(train_set_x_unroll.shape))\n",
    "print(\"test data size after unrolling:\"+str(test_set_x_unroll.shape))"
   ]
  },
  {
   "cell_type": "markdown",
   "metadata": {},
   "source": [
    "### 数据的normalization工作\n",
    "normalization的目的在于将数据值投影到一个范围，比如[0,1]范围。\n",
    "由于RGB的像素最大值为255，所以将像素值除以255即可完成。"
   ]
  },
  {
   "cell_type": "code",
   "execution_count": 16,
   "metadata": {},
   "outputs": [],
   "source": [
    "train_set_x = train_set_x_unroll/255; # broadcasting\n",
    "test_set_x = test_set_x_unroll/255;"
   ]
  },
  {
   "cell_type": "markdown",
   "metadata": {},
   "source": [
    "### 至此数据的载入（load）和预处理工作完成，接下来就是模型构建。\n",
    "### Logistic Regression的大致步骤为\n",
    "1. 初始化w,b参数\n",
    "2. 循环：\n",
    "    1. 前向传播 计算中间参数值\n",
    "    2. 后向传播 计算梯度\n",
    "    3. Gradient Descent梯度下降更新参数值\n",
    "    \n",
    "首先完成sigmoid函数功能。"
   ]
  },
  {
   "cell_type": "code",
   "execution_count": 22,
   "metadata": {},
   "outputs": [],
   "source": [
    "def sigmoid(z):\n",
    "    \"\"\"\n",
    "    z:矩阵或标量\n",
    "    \n",
    "    \"\"\"\n",
    "    return 1/(1+np.exp(-z))"
   ]
  },
  {
   "cell_type": "code",
   "execution_count": 23,
   "metadata": {},
   "outputs": [
    {
     "name": "stdout",
     "output_type": "stream",
     "text": [
      "==========================Sigmoid Test==========================\n",
      "sigmoid(0):0.5\n",
      "sigmoid(-1):0.2689414213699951\n"
     ]
    }
   ],
   "source": [
    "# sigmoid测试\n",
    "print(\"==========================Sigmoid Test==========================\")\n",
    "print(\"sigmoid(0):\"+str(sigmoid(0)))\n",
    "print(\"sigmoid(-1):\"+str(sigmoid(-1)))"
   ]
  },
  {
   "cell_type": "markdown",
   "metadata": {},
   "source": [
    "### 参数初始化"
   ]
  },
  {
   "cell_type": "code",
   "execution_count": 36,
   "metadata": {},
   "outputs": [],
   "source": [
    "def init(dim):\n",
    "    \"\"\"\n",
    "    参数：dim - 返回w向量的行数\n",
    "    返回：\n",
    "        w - (dim,1)的零向量\n",
    "        b - 初始化值为0\n",
    "    \"\"\"\n",
    "    w = np.zeros((dim,1))\n",
    "    b = 0\n",
    "    \n",
    "    # Use assert to judge if shape is correct\n",
    "    assert(w.shape == (dim,1))\n",
    "    assert(isinstance(b,int) or isinstance(b,float))\n",
    "    \n",
    "    return w,b"
   ]
  },
  {
   "cell_type": "markdown",
   "metadata": {},
   "source": [
    "### 前向传播和后向传播计算梯度"
   ]
  },
  {
   "cell_type": "code",
   "execution_count": 25,
   "metadata": {},
   "outputs": [],
   "source": [
    "def propagate(w,b,X,Y):\n",
    "    \"\"\"\n",
    "    实现前向传播和后向传播\n",
    "    \n",
    "    参数：\n",
    "        w:(64x64x3,1)\n",
    "        b:bias\n",
    "        X:训练数据 size为(64x64x3,229)\n",
    "        Y:标签，size为（1，229）\n",
    "    返回：\n",
    "        cost:当前损失函数的值\n",
    "        dw: w梯度\n",
    "        db：b梯度\n",
    "    \"\"\"\n",
    "    m = X.shape[1]\n",
    "    ### forward prop\n",
    "    Z = np.dot(w.T,X)+b\n",
    "    A = sigmoid(Z)\n",
    "    dz = A - Y\n",
    "    cost = -(1/m)*np.sum(Y*np.log(A)+(1-Y)*np.log(1-A))\n",
    "    dw = (1/m)*np.dot(X,dz.T)\n",
    "    db = (1/m)*np.sum(dz)\n",
    "    \n",
    "    assert(dw.shape==w.shape)\n",
    "    cost = np.squeeze(cost)\n",
    "    assert(cost.shape==())\n",
    "    \n",
    "    grads={\n",
    "        \"dw\":dw,\n",
    "        \"db\":db\n",
    "    }\n",
    "    \n",
    "    return grads,cost"
   ]
  },
  {
   "cell_type": "code",
   "execution_count": 26,
   "metadata": {},
   "outputs": [
    {
     "name": "stdout",
     "output_type": "stream",
     "text": [
      "====================测试propagate====================\n",
      "dw = [[0.99993216]\n",
      " [1.99980262]]\n",
      "db = 0.49993523062470574\n",
      "cost = 6.000064773192205\n"
     ]
    }
   ],
   "source": [
    "#测试一下propagate\n",
    "print(\"====================测试propagate====================\")\n",
    "#初始化一些参数\n",
    "w, b, X, Y = np.array([[1], [2]]), 2, np.array([[1,2], [3,4]]), np.array([[1, 0]])\n",
    "grads, cost = propagate(w, b, X, Y)\n",
    "print (\"dw = \" + str(grads[\"dw\"]))\n",
    "print (\"db = \" + str(grads[\"db\"]))\n",
    "print (\"cost = \" + str(cost))\n"
   ]
  },
  {
   "cell_type": "markdown",
   "metadata": {},
   "source": [
    "### 梯度下降"
   ]
  },
  {
   "cell_type": "code",
   "execution_count": 38,
   "metadata": {},
   "outputs": [],
   "source": [
    "def optimize(w,b,X,Y,num_iterations,learning_rate,print_cost=False):\n",
    "    \"\"\"\n",
    "    参数：\n",
    "        w,b,X,Y略\n",
    "        num_iterations: 迭代次数\n",
    "        learning_rate:学习率\n",
    "        print_cost：每迭代100次打印一次损失函数\n",
    "    返回：\n",
    "        params - w和b的字典\n",
    "        grads - dw 和 db的字典\n",
    "        costs - 记录每次迭代成本函数的值的列表\n",
    "    \"\"\"\n",
    "    costs = []\n",
    "    for i in range(num_iterations):\n",
    "        grads,cost = propagate(w,b,X,Y)\n",
    "        costs.append(cost)\n",
    "        dw = grads[\"dw\"]\n",
    "        db = grads[\"db\"]\n",
    "        w = w - learning_rate * dw\n",
    "        b = b- learning_rate * db\n",
    "        \n",
    "        if(i%100==0) and (print_cost==True):\n",
    "            print(\"Cost at iteration %d : %f\"%(i,cost))\n",
    "    params = {\n",
    "        \"w\":w,\n",
    "        \"b\":b\n",
    "    }\n",
    "    return params,grads,costs"
   ]
  },
  {
   "cell_type": "code",
   "execution_count": 30,
   "metadata": {},
   "outputs": [
    {
     "name": "stdout",
     "output_type": "stream",
     "text": [
      "====================测试optimize====================\n",
      "w = [[0.1124579 ]\n",
      " [0.23106775]]\n",
      "b = 1.5593049248448891\n",
      "dw = [[0.90158428]\n",
      " [1.76250842]]\n",
      "db = 0.4304620716786828\n"
     ]
    }
   ],
   "source": [
    "#测试optimize\n",
    "print(\"====================测试optimize====================\")\n",
    "w, b, X, Y = np.array([[1], [2]]), 2, np.array([[1,2], [3,4]]), np.array([[1, 0]])\n",
    "params , grads , costs = optimize(w , b , X , Y , num_iterations=100 , learning_rate = 0.009 , print_cost = False)\n",
    "print (\"w = \" + str(params[\"w\"]))\n",
    "print (\"b = \" + str(params[\"b\"]))\n",
    "print (\"dw = \" + str(grads[\"dw\"]))\n",
    "print (\"db = \" + str(grads[\"db\"]))\n"
   ]
  },
  {
   "cell_type": "markdown",
   "metadata": {},
   "source": [
    "### 根据参数进行预测"
   ]
  },
  {
   "cell_type": "code",
   "execution_count": 48,
   "metadata": {},
   "outputs": [],
   "source": [
    "def predict(w,b,X):\n",
    "    \"\"\"\n",
    "    预测图片是否是猫，函数输出值大于0.5则是，否则不是\n",
    "    \n",
    "    输出：\n",
    "        Y-prediction:预测标签\n",
    "    \"\"\"\n",
    "    m = X.shape[1]\n",
    "    Z = np.dot(w.T,X)+b\n",
    "    A = sigmoid(Z)\n",
    "   # print(A.shape)\n",
    "    \n",
    "    Y_prediction = np.zeros((1,m))\n",
    "    for i in range(m):\n",
    "        if(A[:,i]>0.5):\n",
    "            Y_prediction[:,i] = 1\n",
    "        else:\n",
    "            Y_prediction[:,i] = 0\n",
    "    return Y_prediction"
   ]
  },
  {
   "cell_type": "markdown",
   "metadata": {},
   "source": [
    "### 整合\n",
    "将参数初始化、前向传播、后向传播、梯度下降、预测整合到一个函数中"
   ]
  },
  {
   "cell_type": "code",
   "execution_count": 64,
   "metadata": {},
   "outputs": [],
   "source": [
    "def model(X_train,Y_train,X_test,Y_test,num_iterations=2000,learning_rate=0.5,print_cost=False):\n",
    "    # 参数初始化\n",
    "    dim = X_train.shape[0]\n",
    "    w,b=init(dim)\n",
    "    # 梯度下降\n",
    "    params,grads,costs = optimize(w,b,X_train,Y_train,num_iterations,learning_rate,print_cost)\n",
    "    w = params[\"w\"]\n",
    "    b = params[\"b\"]\n",
    "    Y_train_prediction = predict(w,b,X_train)\n",
    "    Y_test_prediction = predict(w,b,X_test)\n",
    "    \n",
    "    m_train = X_train.shape[1]\n",
    "    m_test = X_test.shape[1]\n",
    "    count_train = 0\n",
    "    count_test = 0\n",
    "    \n",
    "    for i in range(m_train):\n",
    "        if(Y_train_prediction[:,i]==Y_train[:,i]):\n",
    "            count_train+=1\n",
    "    for j in range(m_test):\n",
    "        if(Y_test_prediction[:,j]==Y_test[:,j]):\n",
    "            count_test+=1\n",
    "    print(\"Training set accuracy:\"+str(float(count_train/m_train)))\n",
    "    print(\"Test set accuracy:\"+str(float(count_test/m_test)))\n",
    "    d = {\n",
    "        \"costs\":costs,\n",
    "        \"Y_train_prediction\":Y_train_prediction,\n",
    "        \"Y_test_prediction\":Y_test_prediction,\n",
    "        \"w\":w,\n",
    "        \"b\":b,\n",
    "        \"learning_rate\":learning_rate,\n",
    "        \"num_iterations\":num_iterations\n",
    "    }\n",
    "    return d"
   ]
  },
  {
   "cell_type": "markdown",
   "metadata": {},
   "source": [
    "### 测试\n",
    "至此模型的关键部分已经训练完成，我们调用model函数对模型进行测试，观察随着迭代次数的增加，代价函数是否递减，以及最后测试集和训练集的准确率。"
   ]
  },
  {
   "cell_type": "code",
   "execution_count": 54,
   "metadata": {},
   "outputs": [
    {
     "name": "stdout",
     "output_type": "stream",
     "text": [
      "Cost at iteration 0 : 0.693147\n",
      "Cost at iteration 100 : 0.584508\n",
      "Cost at iteration 200 : 0.466949\n",
      "Cost at iteration 300 : 0.376007\n",
      "Cost at iteration 400 : 0.331463\n",
      "Cost at iteration 500 : 0.303273\n",
      "Cost at iteration 600 : 0.279880\n",
      "Cost at iteration 700 : 0.260042\n",
      "Cost at iteration 800 : 0.242941\n",
      "Cost at iteration 900 : 0.228004\n",
      "Cost at iteration 1000 : 0.214820\n",
      "Cost at iteration 1100 : 0.203078\n",
      "Cost at iteration 1200 : 0.192544\n",
      "Cost at iteration 1300 : 0.183033\n",
      "Cost at iteration 1400 : 0.174399\n",
      "Cost at iteration 1500 : 0.166521\n",
      "Cost at iteration 1600 : 0.159305\n",
      "Cost at iteration 1700 : 0.152667\n",
      "Cost at iteration 1800 : 0.146542\n",
      "Cost at iteration 1900 : 0.140872\n",
      "Training set accuracy:0.9904306220095693\n",
      "Test set accuracy:0.7\n"
     ]
    }
   ],
   "source": [
    "d = model(train_set_x,train_set_y_orig,test_set_x,test_set_y_orig,2000,0.005,True)"
   ]
  },
  {
   "cell_type": "markdown",
   "metadata": {},
   "source": [
    "### 绘制Cost Function图像"
   ]
  },
  {
   "cell_type": "code",
   "execution_count": 56,
   "metadata": {},
   "outputs": [
    {
     "data": {
      "image/png": "[encoded data removed]",
      "text/plain": [
       "<Figure size 432x288 with 1 Axes>"
      ]
     },
     "metadata": {
      "needs_background": "light"
     },
     "output_type": "display_data"
    }
   ],
   "source": [
    "costs = d[\"costs\"]\n",
    "plt.plot(costs)\n",
    "plt.ylabel('cost')\n",
    "plt.xlabel('iteration times')\n",
    "plt.title('Cost Function when learning rate=0.005')\n",
    "plt.show()"
   ]
  },
  {
   "cell_type": "code",
   "execution_count": 66,
   "metadata": {},
   "outputs": [
    {
     "name": "stdout",
     "output_type": "stream",
     "text": [
      "Cost at iteration 0 : 0.693147\n",
      "Cost at iteration 100 : 0.823921\n",
      "Cost at iteration 200 : 0.418944\n",
      "Cost at iteration 300 : 0.617350\n",
      "Cost at iteration 400 : 0.522116\n",
      "Cost at iteration 500 : 0.387709\n",
      "Cost at iteration 600 : 0.236254\n",
      "Cost at iteration 700 : 0.154222\n",
      "Cost at iteration 800 : 0.135328\n",
      "Cost at iteration 900 : 0.124971\n",
      "Cost at iteration 1000 : 0.116478\n",
      "Cost at iteration 1100 : 0.109193\n",
      "Cost at iteration 1200 : 0.102804\n",
      "Cost at iteration 1300 : 0.097130\n",
      "Cost at iteration 1400 : 0.092043\n",
      "Cost at iteration 1500 : 0.087453\n",
      "Cost at iteration 1600 : 0.083286\n",
      "Cost at iteration 1700 : 0.079487\n",
      "Cost at iteration 1800 : 0.076007\n",
      "Cost at iteration 1900 : 0.072809\n",
      "Training set accuracy:0.9952153110047847\n",
      "Test set accuracy:0.7\n",
      "Cost at iteration 0 : 0.693147\n",
      "Cost at iteration 100 : 0.643677\n",
      "Cost at iteration 200 : 0.635737\n",
      "Cost at iteration 300 : 0.628572\n",
      "Cost at iteration 400 : 0.622040\n",
      "Cost at iteration 500 : 0.616029\n",
      "Cost at iteration 600 : 0.610455\n",
      "Cost at iteration 700 : 0.605248\n",
      "Cost at iteration 800 : 0.600354\n",
      "Cost at iteration 900 : 0.595729\n",
      "Cost at iteration 1000 : 0.591339\n",
      "Cost at iteration 1100 : 0.587153\n",
      "Cost at iteration 1200 : 0.583149\n",
      "Cost at iteration 1300 : 0.579307\n",
      "Cost at iteration 1400 : 0.575611\n",
      "Cost at iteration 1500 : 0.572046\n",
      "Cost at iteration 1600 : 0.568601\n",
      "Cost at iteration 1700 : 0.565266\n",
      "Cost at iteration 1800 : 0.562032\n",
      "Cost at iteration 1900 : 0.558891\n",
      "Training set accuracy:0.7129186602870813\n",
      "Test set accuracy:0.4\n"
     ]
    },
    {
     "data": {
      "image/png": "[encoded data removed]",
      "text/plain": [
       "<Figure size 432x288 with 1 Axes>"
      ]
     },
     "metadata": {
      "needs_background": "light"
     },
     "output_type": "display_data"
    }
   ],
   "source": [
    "d2 = model(train_set_x,train_set_y_orig,test_set_x,test_set_y_orig,2000,0.01,True)\n",
    "d3 = model(train_set_x,train_set_y_orig,test_set_x,test_set_y_orig,2000,0.0001,True)\n",
    "models=[]\n",
    "models.append(d)\n",
    "models.append(d2)\n",
    "models.append(d3)\n",
    "for m in models:\n",
    "    plt.plot(m[\"costs\"],label=str(m[\"learning_rate\"]))\n",
    "plt.ylabel(\"cost\")\n",
    "plt.xlabel(\"iteration time\")\n",
    "legend = plt.legend(loc='upper center', shadow=True)\n",
    "frame = legend.get_frame()\n",
    "frame.set_facecolor('0.90')\n",
    "plt.show()"
   ]
  }
 ],
 "metadata": {
  "kernelspec": {
   "display_name": "Python 3",
   "language": "python",
   "name": "python3"
  },
  "language_info": {
   "codemirror_mode": {
    "name": "ipython",
    "version": 3
   },
   "file_extension": ".py",
   "mimetype": "text/x-python",
   "name": "python",
   "nbconvert_exporter": "python",
   "pygments_lexer": "ipython3",
   "version": "3.7.4"
  }
 },
 "nbformat": 4,
 "nbformat_minor": 2
}

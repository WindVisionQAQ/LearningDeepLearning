{
 "cells": [
  {
   "cell_type": "markdown",
   "metadata": {},
   "source": [
    "### 1. 不使用框架搭建CNN"
   ]
  },
  {
   "cell_type": "markdown",
   "metadata": {},
   "source": [
    "#### 1.1 引入库"
   ]
  },
  {
   "cell_type": "code",
   "execution_count": 1,
   "metadata": {},
   "outputs": [],
   "source": [
    "import numpy as np\n",
    "import h5py\n",
    "import matplotlib.pyplot as plt\n",
    "\n",
    "%matplotlib inline\n",
    "plt.rcParams['figure.figsize'] = (5.0,4.0)\n",
    "plt.rcParams['image.interpolation'] = 'nearest'\n",
    "plt.rcParams['image.cmap'] = 'gray'\n",
    "\n",
    "%load_ext autoreload\n",
    "\n",
    "%autoreload 2\n",
    "\n",
    "np.random.seed(1)"
   ]
  },
  {
   "cell_type": "markdown",
   "metadata": {},
   "source": [
    "#### 1.2 zero padding"
   ]
  },
  {
   "cell_type": "code",
   "execution_count": 2,
   "metadata": {},
   "outputs": [],
   "source": [
    "def zero_pad(X,pad):\n",
    "    \"\"\"\n",
    "    参数：\n",
    "        X - 图像数据集，维度为（样本数，图像高度，图像宽度，通道数）\n",
    "        pad - padding的单元数\n",
    "    返回：\n",
    "        X_paded - padding后的图像数据集 \n",
    "    \"\"\"\n",
    "    X_paded = np.pad(X,((0,0),(pad,pad),(pad,pad),(0,0)),'constant',constant_values=(0,0))\n",
    "    return X_paded"
   ]
  },
  {
   "cell_type": "code",
   "execution_count": 3,
   "metadata": {},
   "outputs": [
    {
     "name": "stdout",
     "output_type": "stream",
     "text": [
      "x.shape = (4, 3, 3, 2)\n",
      "x_paded.shape = (4, 7, 7, 2)\n"
     ]
    }
   ],
   "source": [
    "# 测试zero_pad\n",
    "np.random.seed(1)\n",
    "x = np.random.randn(4,3,3,2)\n",
    "x_paded = zero_pad(x,2)\n",
    "\n",
    "print(\"x.shape = \"+str(x.shape))\n",
    "print(\"x_paded.shape = \"+str(x_paded.shape))"
   ]
  },
  {
   "cell_type": "markdown",
   "metadata": {},
   "source": [
    "#### 1.3 单步卷积"
   ]
  },
  {
   "cell_type": "code",
   "execution_count": 6,
   "metadata": {},
   "outputs": [],
   "source": [
    "def conv_single_step(a_slice_prev,W,b):\n",
    "    \"\"\"\n",
    "    参数：\n",
    "        W - 卷积核\n",
    "        a_slice_prev - 与卷积核size相同的图像的一部分\n",
    "        b - bias\n",
    "    返回：\n",
    "        Z - 进行一次单步卷积的结果\n",
    "    \"\"\"\n",
    "    temp = np.multiply(a_slice_prev,W)+b\n",
    "    Z = np.sum(temp)\n",
    "    \n",
    "    return Z"
   ]
  },
  {
   "cell_type": "code",
   "execution_count": 7,
   "metadata": {},
   "outputs": [
    {
     "name": "stdout",
     "output_type": "stream",
     "text": [
      "Z = -23.16021220252078\n"
     ]
    }
   ],
   "source": [
    "# 测试conv_single_step\n",
    "np.random.seed(1)\n",
    "\n",
    "a_slice_prev = np.random.randn(4,4,3)\n",
    "W = np.random.randn(4,4,3)\n",
    "b = np.random.randn(1,1,1)\n",
    "\n",
    "Z = conv_single_step(a_slice_prev,W,b)\n",
    "print(\"Z = \"+str(Z))"
   ]
  },
  {
   "cell_type": "markdown",
   "metadata": {},
   "source": [
    "#### 1.4 卷积层前向传播"
   ]
  },
  {
   "cell_type": "code",
   "execution_count": 12,
   "metadata": {},
   "outputs": [],
   "source": [
    "def conv_forward(A_prev,W,b,hparameters):\n",
    "    \"\"\"\n",
    "    参数：\n",
    "        A_prev - (m,n_h_prev,n_w_prev,n_c_prev)维度\n",
    "        W - (f,f,n_c_prev,n_c)维度\n",
    "        b - bias (1,1,1)\n",
    "        hparameters - 包含stride 和 pad参数的字典\n",
    "    返回：\n",
    "        Z - 卷积+bias后的输出\n",
    "        cache - 中间值 bp时会用到\n",
    "    \"\"\"\n",
    "    # 获取输入的size\n",
    "    (m,n_h_prev,n_w_prev,n_c_prev) = A_prev.shape\n",
    "    # 获取卷积核size\n",
    "    (f,f,n_c_prev,n_c) = W.shape\n",
    "    \n",
    "    # 获取stride和pad超参数\n",
    "    s = hparameters[\"stride\"]\n",
    "    p = hparameters[\"pad\"]\n",
    "    \n",
    "    # 初始化输出Z\n",
    "    n_h = int((n_h_prev+2*p-f)/s)+1\n",
    "    n_w = int((n_w_prev+2*p-f)/s)+1\n",
    "    Z = np.zeros((m,n_h,n_w,n_c))\n",
    "    \n",
    "    # padding\n",
    "    A_prev_padding = zero_pad(A_prev,p)\n",
    "    \n",
    "    # 计算Z\n",
    "    for i in range(m):\n",
    "        # 取出第i个图像\n",
    "        a_prev_padding = A_prev_padding[i]\n",
    "        for h in range(n_h):\n",
    "            for w in range(n_w):\n",
    "                for c in range(n_c):\n",
    "                    # 获得a_slice_prev\n",
    "                    vertical_start = h*s\n",
    "                    vertical_end = vertical_start + f\n",
    "                    horizontal_start = w*s\n",
    "                    horizontal_end = horizontal_start + f\n",
    "                    a_slice_prev = a_prev_padding[vertical_start:vertical_end,horizontal_start:horizontal_end,:]\n",
    "                    \n",
    "                    # single conv\n",
    "                    Z[i,h,w,c] = conv_single_step(a_slice_prev,W[:,:,:,c],b[:,:,:,c])\n",
    "    cache = (A_prev,W,b,hparameters)\n",
    "    return Z,cache"
   ]
  },
  {
   "cell_type": "code",
   "execution_count": 13,
   "metadata": {},
   "outputs": [
    {
     "name": "stdout",
     "output_type": "stream",
     "text": [
      "np.mean(Z) = 0.15585932488906465\n",
      "cache_conv[0][1][2][3] = [-0.20075807  0.18656139  0.41005165]\n"
     ]
    }
   ],
   "source": [
    "# 测试conv_forward\n",
    "np.random.seed(1)\n",
    "A_prev = np.random.randn(10,4,4,3)\n",
    "W = np.random.randn(2,2,3,8)\n",
    "b = np.random.randn(1,1,1,8)\n",
    "\n",
    "hparameters = {\"pad\":2,\"stride\":1}\n",
    "Z,cache_conv = conv_forward(A_prev,W,b,hparameters)\n",
    "\n",
    "print(\"np.mean(Z) = \"+str(np.mean(Z)))\n",
    "print(\"cache_conv[0][1][2][3] = \"+str(cache_conv[0][1][2][3]))"
   ]
  },
  {
   "cell_type": "markdown",
   "metadata": {},
   "source": [
    "#### 1.5 池化层前向传播\n",
    "池化层有两种模式：一是max pooling，二是average pooling。"
   ]
  },
  {
   "cell_type": "code",
   "execution_count": 12,
   "metadata": {},
   "outputs": [],
   "source": [
    "def pool_forward(A_prev,hparameters,mode=\"max\"):\n",
    "    \"\"\"\n",
    "    参数：\n",
    "        A_prev - 图像数据 维度为(m,n_h_prev,n_w_prev,n_c_prev)\n",
    "        hparameters - 包含stride 和 f的字典\n",
    "        mode - \"max\" or \"average\"\n",
    "    返回：\n",
    "        A - 输出 维度为(m,n_h,n_w,n_c)\n",
    "        cache - 中间值 用于反向传播的计算\n",
    "    \"\"\"\n",
    "    # 获取A_prev 信息\n",
    "    (m,n_h_prev,n_w_prev,n_c_prev) = A_prev.shape\n",
    "    \n",
    "    # 获取超参数信息\n",
    "    f = hparameters[\"f\"]\n",
    "    stride = hparameters[\"stride\"]\n",
    "    \n",
    "    # 得到输出的size\n",
    "    n_h = int((n_h_prev-f)/stride)+1\n",
    "    n_w = int((n_w_prev-f)/stride)+1\n",
    "    n_c = n_c_prev\n",
    "    \n",
    "    # 初始化输出\n",
    "    A = np.zeros((m,n_h,n_w,n_c))\n",
    "    \n",
    "    \n",
    "    \n",
    "    # 计算pooling结果\n",
    "    for i in range(m):\n",
    "        a_prev = A_prev[i]\n",
    "        for h in range(n_h):\n",
    "            for w in range(n_w):\n",
    "                for c in range (n_c):\n",
    "                    # 确定slice的位置\n",
    "                    vertical_start = h*stride\n",
    "                    vertical_end = vertical_start + f\n",
    "                    horizontal_start = w*stride\n",
    "                    horizontal_end = horizontal_start + f\n",
    "                    \n",
    "                    a_prev_slice = a_prev[vertical_start:vertical_end,horizontal_start:horizontal_end,c]\n",
    "                    \n",
    "                    if mode == \"max\":\n",
    "                        A[i,h,w,c] = np.max(a_prev_slice)\n",
    "                    elif mode == \"average\":\n",
    "                        A[i,h,w,c] = np.mean(a_prev_slice)\n",
    "    cache = (A_prev,hparameters)\n",
    "    return A,cache"
   ]
  },
  {
   "cell_type": "code",
   "execution_count": 14,
   "metadata": {},
   "outputs": [
    {
     "name": "stdout",
     "output_type": "stream",
     "text": [
      "Max mode\n",
      "A = [[[[1.74481176 1.6924546  2.10025514]]]\n",
      "\n",
      "\n",
      " [[[1.19891788 1.51981682 2.18557541]]]]\n",
      "================\n",
      "Average mode\n",
      "A = [[[[-0.09498456  0.11180064 -0.14263511]]]\n",
      "\n",
      "\n",
      " [[[-0.09525108  0.28325018  0.33035185]]]]\n"
     ]
    }
   ],
   "source": [
    "# 测试pool_forward\n",
    "np.random.seed(1)\n",
    "A_prev = np.random.randn(2,4,4,3)\n",
    "hparameters = {\"f\":4,\"stride\":1}\n",
    "\n",
    "A,cache = pool_forward(A_prev,hparameters,mode=\"max\")\n",
    "print(\"Max mode\")\n",
    "print(\"A = \"+str(A))\n",
    "print(\"================\")\n",
    "A,cache = pool_forward(A_prev,hparameters,mode=\"average\")\n",
    "print(\"Average mode\")\n",
    "print(\"A = \"+str(A))"
   ]
  },
  {
   "cell_type": "markdown",
   "metadata": {},
   "source": [
    "### 2. 利用Tensorflow框架构建CNN模型\n",
    "#### 2.1 引入库"
   ]
  },
  {
   "cell_type": "code",
   "execution_count": 17,
   "metadata": {},
   "outputs": [],
   "source": [
    "import math\n",
    "import numpy as np\n",
    "import h5py\n",
    "import matplotlib.pyplot as plt\n",
    "import matplotlib.image as mpimg\n",
    "import tensorflow as tf\n",
    "from tensorflow.python.framework import ops\n",
    "\n",
    "import cnn_utils\n",
    "\n",
    "%matplotlib inline\n",
    "np.random.seed(1)"
   ]
  },
  {
   "cell_type": "code",
   "execution_count": 21,
   "metadata": {},
   "outputs": [
    {
     "name": "stdout",
     "output_type": "stream",
     "text": [
      "y = [1]\n"
     ]
    },
    {
     "data": {
      "image/png": "[encoded data removed]",
      "text/plain": [
       "<Figure size 432x288 with 1 Axes>"
      ]
     },
     "metadata": {
      "needs_background": "light"
     },
     "output_type": "display_data"
    }
   ],
   "source": [
    "# 观察数据集的图片\n",
    "X_train_orig,Y_train_orig,X_test_orig,Y_test_orig,classes = cnn_utils.load_dataset()\n",
    "index = 11\n",
    "plt.imshow(X_train_orig[index])\n",
    "print(\"y = \"+str(Y_train_orig[:,index]))"
   ]
  },
  {
   "cell_type": "code",
   "execution_count": 22,
   "metadata": {},
   "outputs": [
    {
     "name": "stdout",
     "output_type": "stream",
     "text": [
      "X_train.shape : (1080, 64, 64, 3)\n",
      "X_test.shape : (120, 64, 64, 3)\n",
      "Y_train.shape : (1080, 6)\n",
      "Y_test.shape : (1080, 6)\n"
     ]
    }
   ],
   "source": [
    "X_train = X_train_orig / 255\n",
    "X_test = X_test_orig / 255\n",
    "Y_train = cnn_utils.convert_to_one_hot(Y_train_orig,6).T\n",
    "Y_test = cnn_utils.convert_to_one_hot(Y_test_orig,6).T\n",
    "conv_layers = {}\n",
    "\n",
    "print(\"X_train.shape : \"+str(X_train.shape))\n",
    "print(\"X_test.shape : \"+str(X_test.shape))\n",
    "print(\"Y_train.shape : \"+str(Y_train.shape))\n",
    "print(\"Y_test.shape : \"+str(Y_train.shape))"
   ]
  },
  {
   "cell_type": "markdown",
   "metadata": {},
   "source": [
    "#### 2.2 创建占位符Placeholders\n",
    "需要创建占位符X和Y，以便在计算图构建完成后向其中喂数据"
   ]
  },
  {
   "cell_type": "code",
   "execution_count": 23,
   "metadata": {},
   "outputs": [],
   "source": [
    "def create_placeholders(n_H0,n_W0,n_C0,n_y):\n",
    "    X = tf.placeholder(tf.float32,[None,n_H0,n_W0,n_C0])\n",
    "    Y = tf.placeholder(tf.float32,[None,n_y])\n",
    "    \n",
    "    return X,Y"
   ]
  },
  {
   "cell_type": "code",
   "execution_count": 24,
   "metadata": {},
   "outputs": [
    {
     "name": "stdout",
     "output_type": "stream",
     "text": [
      "X = Tensor(\"Placeholder:0\", shape=(?, 64, 64, 3), dtype=float32)\n",
      "Y = Tensor(\"Placeholder_1:0\", shape=(?, 6), dtype=float32)\n"
     ]
    }
   ],
   "source": [
    "# 测试create_placeholders\n",
    "X,Y = create_placeholders(64,64,3,6)\n",
    "print(\"X = \"+str(X))\n",
    "print(\"Y = \"+str(Y))"
   ]
  },
  {
   "cell_type": "markdown",
   "metadata": {},
   "source": [
    "#### 2.3 初始化参数\n",
    "使用Tensorflow构建CNN时，只需要对卷积核进行参数的初始化即可。偏置b和全连接层参数的初始化由框架自动完成。"
   ]
  },
  {
   "cell_type": "code",
   "execution_count": 29,
   "metadata": {},
   "outputs": [],
   "source": [
    "def init_params():\n",
    "    \"\"\"\n",
    "    初始化的参数：\n",
    "        W1 : [4,4,3,8]\n",
    "        W2: [2,2,8,16]\n",
    "    \"\"\"\n",
    "    tf.set_random_seed(1)\n",
    "    W1 = tf.get_variable(\"W1\",[4,4,3,8],initializer=tf.contrib.layers.xavier_initializer(seed=0))\n",
    "    W2 = tf.get_variable(\"W2\",[2,2,8,16],initializer=tf.contrib.layers.xavier_initializer(seed=0))\n",
    "    \n",
    "    params = {\n",
    "        \"W1\":W1,\n",
    "        \"W2\":W2\n",
    "    }\n",
    "    return params"
   ]
  },
  {
   "cell_type": "code",
   "execution_count": 30,
   "metadata": {},
   "outputs": [
    {
     "name": "stdout",
     "output_type": "stream",
     "text": [
      "W1 = [ 0.00131723  0.1417614  -0.04434952  0.09197326  0.14984085 -0.03514394\n",
      " -0.06847463  0.05245192]\n",
      "W2 = [-0.08566415  0.17750949  0.11974221  0.16773748 -0.0830943  -0.08058\n",
      " -0.00577033 -0.14643836  0.24162132 -0.05857408 -0.19055021  0.1345228\n",
      " -0.22779644 -0.1601823  -0.16117483 -0.10286498]\n"
     ]
    }
   ],
   "source": [
    "# 测试init_params\n",
    "tf.reset_default_graph()\n",
    "with tf.Session() as session:\n",
    "    params = init_params()\n",
    "    W1 = params[\"W1\"]\n",
    "    W2 = params[\"W2\"]\n",
    "    init = tf.global_variables_initializer()\n",
    "    session.run(init)\n",
    "    print(\"W1 = \"+str(W1.eval()[1,1,1]))\n",
    "    print(\"W2 = \"+str(W2.eval()[1,1,1]))"
   ]
  },
  {
   "cell_type": "code",
   "execution_count": null,
   "metadata": {},
   "outputs": [],
   "source": []
  }
 ],
 "metadata": {
  "kernelspec": {
   "display_name": "Python 3",
   "language": "python",
   "name": "python3"
  },
  "language_info": {
   "codemirror_mode": {
    "name": "ipython",
    "version": 3
   },
   "file_extension": ".py",
   "mimetype": "text/x-python",
   "name": "python",
   "nbconvert_exporter": "python",
   "pygments_lexer": "ipython3",
   "version": "3.6.10"
  }
 },
 "nbformat": 4,
 "nbformat_minor": 4
}

{
 "cells": [
  {
   "cell_type": "markdown",
   "metadata": {},
   "source": [
    "### 1. 不使用框架搭建CNN"
   ]
  },
  {
   "cell_type": "markdown",
   "metadata": {},
   "source": [
    "#### 1.1 引入库"
   ]
  },
  {
   "cell_type": "code",
   "execution_count": 1,
   "metadata": {},
   "outputs": [],
   "source": [
    "import numpy as np\n",
    "import h5py\n",
    "import matplotlib.pyplot as plt\n",
    "\n",
    "%matplotlib inline\n",
    "plt.rcParams['figure.figsize'] = (5.0,4.0)\n",
    "plt.rcParams['image.interpolation'] = 'nearest'\n",
    "plt.rcParams['image.cmap'] = 'gray'\n",
    "\n",
    "%load_ext autoreload\n",
    "\n",
    "%autoreload 2\n",
    "\n",
    "np.random.seed(1)"
   ]
  },
  {
   "cell_type": "markdown",
   "metadata": {},
   "source": [
    "#### 1.2 zero padding"
   ]
  },
  {
   "cell_type": "code",
   "execution_count": 2,
   "metadata": {},
   "outputs": [],
   "source": [
    "def zero_pad(X,pad):\n",
    "    \"\"\"\n",
    "    参数：\n",
    "        X - 图像数据集，维度为（样本数，图像高度，图像宽度，通道数）\n",
    "        pad - padding的单元数\n",
    "    返回：\n",
    "        X_paded - padding后的图像数据集 \n",
    "    \"\"\"\n",
    "    X_paded = np.pad(X,((0,0),(pad,pad),(pad,pad),(0,0)),'constant',constant_values=(0,0))\n",
    "    return X_paded"
   ]
  },
  {
   "cell_type": "code",
   "execution_count": 3,
   "metadata": {},
   "outputs": [
    {
     "name": "stdout",
     "output_type": "stream",
     "text": [
      "x.shape = (4, 3, 3, 2)\n",
      "x_paded.shape = (4, 7, 7, 2)\n"
     ]
    }
   ],
   "source": [
    "# 测试zero_pad\n",
    "np.random.seed(1)\n",
    "x = np.random.randn(4,3,3,2)\n",
    "x_paded = zero_pad(x,2)\n",
    "\n",
    "print(\"x.shape = \"+str(x.shape))\n",
    "print(\"x_paded.shape = \"+str(x_paded.shape))"
   ]
  },
  {
   "cell_type": "markdown",
   "metadata": {},
   "source": [
    "#### 1.3 单步卷积"
   ]
  },
  {
   "cell_type": "code",
   "execution_count": 6,
   "metadata": {},
   "outputs": [],
   "source": [
    "def conv_single_step(a_slice_prev,W,b):\n",
    "    \"\"\"\n",
    "    参数：\n",
    "        W - 卷积核\n",
    "        a_slice_prev - 与卷积核size相同的图像的一部分\n",
    "        b - bias\n",
    "    返回：\n",
    "        Z - 进行一次单步卷积的结果\n",
    "    \"\"\"\n",
    "    temp = np.multiply(a_slice_prev,W)+b\n",
    "    Z = np.sum(temp)\n",
    "    \n",
    "    return Z"
   ]
  },
  {
   "cell_type": "code",
   "execution_count": 7,
   "metadata": {},
   "outputs": [
    {
     "name": "stdout",
     "output_type": "stream",
     "text": [
      "Z = -23.16021220252078\n"
     ]
    }
   ],
   "source": [
    "# 测试conv_single_step\n",
    "np.random.seed(1)\n",
    "\n",
    "a_slice_prev = np.random.randn(4,4,3)\n",
    "W = np.random.randn(4,4,3)\n",
    "b = np.random.randn(1,1,1)\n",
    "\n",
    "Z = conv_single_step(a_slice_prev,W,b)\n",
    "print(\"Z = \"+str(Z))"
   ]
  },
  {
   "cell_type": "markdown",
   "metadata": {},
   "source": [
    "#### 1.4 卷积层前向传播"
   ]
  },
  {
   "cell_type": "code",
   "execution_count": 12,
   "metadata": {},
   "outputs": [],
   "source": [
    "def conv_forward(A_prev,W,b,hparameters):\n",
    "    \"\"\"\n",
    "    参数：\n",
    "        A_prev - (m,n_h_prev,n_w_prev,n_c_prev)维度\n",
    "        W - (f,f,n_c_prev,n_c)维度\n",
    "        b - bias (1,1,1)\n",
    "        hparameters - 包含stride 和 pad参数的字典\n",
    "    返回：\n",
    "        Z - 卷积+bias后的输出\n",
    "        cache - 中间值 bp时会用到\n",
    "    \"\"\"\n",
    "    # 获取输入的size\n",
    "    (m,n_h_prev,n_w_prev,n_c_prev) = A_prev.shape\n",
    "    # 获取卷积核size\n",
    "    (f,f,n_c_prev,n_c) = W.shape\n",
    "    \n",
    "    # 获取stride和pad超参数\n",
    "    s = hparameters[\"stride\"]\n",
    "    p = hparameters[\"pad\"]\n",
    "    \n",
    "    # 初始化输出Z\n",
    "    n_h = int((n_h_prev+2*p-f)/s)+1\n",
    "    n_w = int((n_w_prev+2*p-f)/s)+1\n",
    "    Z = np.zeros((m,n_h,n_w,n_c))\n",
    "    \n",
    "    # padding\n",
    "    A_prev_padding = zero_pad(A_prev,p)\n",
    "    \n",
    "    # 计算Z\n",
    "    for i in range(m):\n",
    "        # 取出第i个图像\n",
    "        a_prev_padding = A_prev_padding[i]\n",
    "        for h in range(n_h):\n",
    "            for w in range(n_w):\n",
    "                for c in range(n_c):\n",
    "                    # 获得a_slice_prev\n",
    "                    vertical_start = h*s\n",
    "                    vertical_end = vertical_start + f\n",
    "                    horizontal_start = w*s\n",
    "                    horizontal_end = horizontal_start + f\n",
    "                    a_slice_prev = a_prev_padding[vertical_start:vertical_end,horizontal_start:horizontal_end,:]\n",
    "                    \n",
    "                    # single conv\n",
    "                    Z[i,h,w,c] = conv_single_step(a_slice_prev,W[:,:,:,c],b[:,:,:,c])\n",
    "    cache = (A_prev,W,b,hparameters)\n",
    "    return Z,cache"
   ]
  },
  {
   "cell_type": "code",
   "execution_count": 13,
   "metadata": {},
   "outputs": [
    {
     "name": "stdout",
     "output_type": "stream",
     "text": [
      "np.mean(Z) = 0.15585932488906465\n",
      "cache_conv[0][1][2][3] = [-0.20075807  0.18656139  0.41005165]\n"
     ]
    }
   ],
   "source": [
    "# 测试conv_forward\n",
    "np.random.seed(1)\n",
    "A_prev = np.random.randn(10,4,4,3)\n",
    "W = np.random.randn(2,2,3,8)\n",
    "b = np.random.randn(1,1,1,8)\n",
    "\n",
    "hparameters = {\"pad\":2,\"stride\":1}\n",
    "Z,cache_conv = conv_forward(A_prev,W,b,hparameters)\n",
    "\n",
    "print(\"np.mean(Z) = \"+str(np.mean(Z)))\n",
    "print(\"cache_conv[0][1][2][3] = \"+str(cache_conv[0][1][2][3]))"
   ]
  },
  {
   "cell_type": "markdown",
   "metadata": {},
   "source": [
    "#### 1.5 池化层前向传播\n",
    "池化层有两种模式：一是max pooling，二是average pooling。"
   ]
  },
  {
   "cell_type": "code",
   "execution_count": 12,
   "metadata": {},
   "outputs": [],
   "source": [
    "def pool_forward(A_prev,hparameters,mode=\"max\"):\n",
    "    \"\"\"\n",
    "    参数：\n",
    "        A_prev - 图像数据 维度为(m,n_h_prev,n_w_prev,n_c_prev)\n",
    "        hparameters - 包含stride 和 f的字典\n",
    "        mode - \"max\" or \"average\"\n",
    "    返回：\n",
    "        A - 输出 维度为(m,n_h,n_w,n_c)\n",
    "        cache - 中间值 用于反向传播的计算\n",
    "    \"\"\"\n",
    "    # 获取A_prev 信息\n",
    "    (m,n_h_prev,n_w_prev,n_c_prev) = A_prev.shape\n",
    "    \n",
    "    # 获取超参数信息\n",
    "    f = hparameters[\"f\"]\n",
    "    stride = hparameters[\"stride\"]\n",
    "    \n",
    "    # 得到输出的size\n",
    "    n_h = int((n_h_prev-f)/stride)+1\n",
    "    n_w = int((n_w_prev-f)/stride)+1\n",
    "    n_c = n_c_prev\n",
    "    \n",
    "    # 初始化输出\n",
    "    A = np.zeros((m,n_h,n_w,n_c))\n",
    "    \n",
    "    \n",
    "    \n",
    "    # 计算pooling结果\n",
    "    for i in range(m):\n",
    "        a_prev = A_prev[i]\n",
    "        for h in range(n_h):\n",
    "            for w in range(n_w):\n",
    "                for c in range (n_c):\n",
    "                    # 确定slice的位置\n",
    "                    vertical_start = h*stride\n",
    "                    vertical_end = vertical_start + f\n",
    "                    horizontal_start = w*stride\n",
    "                    horizontal_end = horizontal_start + f\n",
    "                    \n",
    "                    a_prev_slice = a_prev[vertical_start:vertical_end,horizontal_start:horizontal_end,c]\n",
    "                    \n",
    "                    if mode == \"max\":\n",
    "                        A[i,h,w,c] = np.max(a_prev_slice)\n",
    "                    elif mode == \"average\":\n",
    "                        A[i,h,w,c] = np.mean(a_prev_slice)\n",
    "    cache = (A_prev,hparameters)\n",
    "    return A,cache"
   ]
  },
  {
   "cell_type": "code",
   "execution_count": 14,
   "metadata": {},
   "outputs": [
    {
     "name": "stdout",
     "output_type": "stream",
     "text": [
      "Max mode\n",
      "A = [[[[1.74481176 1.6924546  2.10025514]]]\n",
      "\n",
      "\n",
      " [[[1.19891788 1.51981682 2.18557541]]]]\n",
      "================\n",
      "Average mode\n",
      "A = [[[[-0.09498456  0.11180064 -0.14263511]]]\n",
      "\n",
      "\n",
      " [[[-0.09525108  0.28325018  0.33035185]]]]\n"
     ]
    }
   ],
   "source": [
    "# 测试pool_forward\n",
    "np.random.seed(1)\n",
    "A_prev = np.random.randn(2,4,4,3)\n",
    "hparameters = {\"f\":4,\"stride\":1}\n",
    "\n",
    "A,cache = pool_forward(A_prev,hparameters,mode=\"max\")\n",
    "print(\"Max mode\")\n",
    "print(\"A = \"+str(A))\n",
    "print(\"================\")\n",
    "A,cache = pool_forward(A_prev,hparameters,mode=\"average\")\n",
    "print(\"Average mode\")\n",
    "print(\"A = \"+str(A))"
   ]
  },
  {
   "cell_type": "markdown",
   "metadata": {},
   "source": [
    "### 2. 利用Tensorflow框架构建CNN模型\n",
    "#### 2.1 引入库"
   ]
  },
  {
   "cell_type": "code",
   "execution_count": 2,
   "metadata": {},
   "outputs": [
    {
     "name": "stderr",
     "output_type": "stream",
     "text": [
      "D:\\Tools\\Anaconda3\\envs\\tf1\\lib\\site-packages\\tensorflow\\python\\framework\\dtypes.py:519: FutureWarning: Passing (type, 1) or '1type' as a synonym of type is deprecated; in a future version of numpy, it will be understood as (type, (1,)) / '(1,)type'.\n",
      "  _np_qint8 = np.dtype([(\"qint8\", np.int8, 1)])\n",
      "D:\\Tools\\Anaconda3\\envs\\tf1\\lib\\site-packages\\tensorflow\\python\\framework\\dtypes.py:520: FutureWarning: Passing (type, 1) or '1type' as a synonym of type is deprecated; in a future version of numpy, it will be understood as (type, (1,)) / '(1,)type'.\n",
      "  _np_quint8 = np.dtype([(\"quint8\", np.uint8, 1)])\n",
      "D:\\Tools\\Anaconda3\\envs\\tf1\\lib\\site-packages\\tensorflow\\python\\framework\\dtypes.py:521: FutureWarning: Passing (type, 1) or '1type' as a synonym of type is deprecated; in a future version of numpy, it will be understood as (type, (1,)) / '(1,)type'.\n",
      "  _np_qint16 = np.dtype([(\"qint16\", np.int16, 1)])\n",
      "D:\\Tools\\Anaconda3\\envs\\tf1\\lib\\site-packages\\tensorflow\\python\\framework\\dtypes.py:522: FutureWarning: Passing (type, 1) or '1type' as a synonym of type is deprecated; in a future version of numpy, it will be understood as (type, (1,)) / '(1,)type'.\n",
      "  _np_quint16 = np.dtype([(\"quint16\", np.uint16, 1)])\n",
      "D:\\Tools\\Anaconda3\\envs\\tf1\\lib\\site-packages\\tensorflow\\python\\framework\\dtypes.py:523: FutureWarning: Passing (type, 1) or '1type' as a synonym of type is deprecated; in a future version of numpy, it will be understood as (type, (1,)) / '(1,)type'.\n",
      "  _np_qint32 = np.dtype([(\"qint32\", np.int32, 1)])\n",
      "D:\\Tools\\Anaconda3\\envs\\tf1\\lib\\site-packages\\tensorflow\\python\\framework\\dtypes.py:528: FutureWarning: Passing (type, 1) or '1type' as a synonym of type is deprecated; in a future version of numpy, it will be understood as (type, (1,)) / '(1,)type'.\n",
      "  np_resource = np.dtype([(\"resource\", np.ubyte, 1)])\n"
     ]
    }
   ],
   "source": [
    "import math\n",
    "import numpy as np\n",
    "import h5py\n",
    "import matplotlib.pyplot as plt\n",
    "import matplotlib.image as mpimg\n",
    "import tensorflow as tf\n",
    "from tensorflow.python.framework import ops\n",
    "\n",
    "import cnn_utils\n",
    "\n",
    "%matplotlib inline\n",
    "np.random.seed(1)"
   ]
  },
  {
   "cell_type": "code",
   "execution_count": 14,
   "metadata": {},
   "outputs": [
    {
     "name": "stdout",
     "output_type": "stream",
     "text": [
      "y = [1]\n"
     ]
    },
    {
     "data": {
      "image/png": "[encoded data removed]",
      "text/plain": [
       "<Figure size 432x288 with 1 Axes>"
      ]
     },
     "metadata": {
      "needs_background": "light"
     },
     "output_type": "display_data"
    }
   ],
   "source": [
    "# 观察数据集的图片\n",
    "X_train_orig,Y_train_orig,X_test_orig,Y_test_orig,classes = cnn_utils.load_dataset()\n",
    "index = 11\n",
    "plt.imshow(X_train_orig[index])\n",
    "print(\"y = \"+str(Y_train_orig[:,index]))"
   ]
  },
  {
   "cell_type": "code",
   "execution_count": 16,
   "metadata": {},
   "outputs": [
    {
     "name": "stdout",
     "output_type": "stream",
     "text": [
      "X_train.shape : (1080, 64, 64, 3)\n",
      "X_test.shape : (120, 64, 64, 3)\n",
      "Y_train.shape : (1080, 6)\n",
      "Y_test.shape : (1080, 6)\n"
     ]
    }
   ],
   "source": [
    "X_train = X_train_orig / 255\n",
    "X_test = X_test_orig / 255\n",
    "Y_train = cnn_utils.convert_to_one_hot(Y_train_orig,6).T\n",
    "Y_test = cnn_utils.convert_to_one_hot(Y_test_orig,6).T\n",
    "conv_layers = {}\n",
    "\n",
    "print(\"X_train.shape : \"+str(X_train.shape))\n",
    "print(\"X_test.shape : \"+str(X_test.shape))\n",
    "print(\"Y_train.shape : \"+str(Y_train.shape))\n",
    "print(\"Y_test.shape : \"+str(Y_train.shape))"
   ]
  },
  {
   "cell_type": "markdown",
   "metadata": {},
   "source": [
    "#### 2.2 创建占位符Placeholders\n",
    "需要创建占位符X和Y，以便在计算图构建完成后向其中喂数据"
   ]
  },
  {
   "cell_type": "code",
   "execution_count": 4,
   "metadata": {},
   "outputs": [],
   "source": [
    "def create_placeholders(n_H0,n_W0,n_C0,n_y):\n",
    "    X = tf.placeholder(tf.float32,[None,n_H0,n_W0,n_C0])\n",
    "    Y = tf.placeholder(tf.float32,[None,n_y])\n",
    "    \n",
    "    return X,Y"
   ]
  },
  {
   "cell_type": "code",
   "execution_count": 24,
   "metadata": {},
   "outputs": [
    {
     "name": "stdout",
     "output_type": "stream",
     "text": [
      "X = Tensor(\"Placeholder:0\", shape=(?, 64, 64, 3), dtype=float32)\n",
      "Y = Tensor(\"Placeholder_1:0\", shape=(?, 6), dtype=float32)\n"
     ]
    }
   ],
   "source": [
    "# 测试create_placeholders\n",
    "X,Y = create_placeholders(64,64,3,6)\n",
    "print(\"X = \"+str(X))\n",
    "print(\"Y = \"+str(Y))"
   ]
  },
  {
   "cell_type": "markdown",
   "metadata": {},
   "source": [
    "#### 2.3 初始化参数\n",
    "使用Tensorflow构建CNN时，只需要对卷积核进行参数的初始化即可。偏置b和全连接层参数的初始化由框架自动完成。"
   ]
  },
  {
   "cell_type": "code",
   "execution_count": 5,
   "metadata": {},
   "outputs": [],
   "source": [
    "def init_params():\n",
    "    \"\"\"\n",
    "    初始化的参数：\n",
    "        W1 : [4,4,3,8]\n",
    "        W2: [2,2,8,16]\n",
    "    \"\"\"\n",
    "    tf.set_random_seed(1)\n",
    "    W1 = tf.get_variable(\"W1\",[4,4,3,8],initializer=tf.contrib.layers.xavier_initializer(seed=0))\n",
    "    W2 = tf.get_variable(\"W2\",[2,2,8,16],initializer=tf.contrib.layers.xavier_initializer(seed=0))\n",
    "    \n",
    "    params = {\n",
    "        \"W1\":W1,\n",
    "        \"W2\":W2\n",
    "    }\n",
    "    return params"
   ]
  },
  {
   "cell_type": "code",
   "execution_count": 30,
   "metadata": {},
   "outputs": [
    {
     "name": "stdout",
     "output_type": "stream",
     "text": [
      "W1 = [ 0.00131723  0.1417614  -0.04434952  0.09197326  0.14984085 -0.03514394\n",
      " -0.06847463  0.05245192]\n",
      "W2 = [-0.08566415  0.17750949  0.11974221  0.16773748 -0.0830943  -0.08058\n",
      " -0.00577033 -0.14643836  0.24162132 -0.05857408 -0.19055021  0.1345228\n",
      " -0.22779644 -0.1601823  -0.16117483 -0.10286498]\n"
     ]
    }
   ],
   "source": [
    "# 测试init_params\n",
    "tf.reset_default_graph()\n",
    "with tf.Session() as session:\n",
    "    params = init_params()\n",
    "    W1 = params[\"W1\"]\n",
    "    W2 = params[\"W2\"]\n",
    "    init = tf.global_variables_initializer()\n",
    "    session.run(init)\n",
    "    print(\"W1 = \"+str(W1.eval()[1,1,1]))\n",
    "    print(\"W2 = \"+str(W2.eval()[1,1,1]))"
   ]
  },
  {
   "cell_type": "markdown",
   "metadata": {},
   "source": [
    "#### 2.4 前向传播"
   ]
  },
  {
   "cell_type": "code",
   "execution_count": 3,
   "metadata": {},
   "outputs": [],
   "source": [
    "def forward_propagation(X,params):\n",
    "    W1 = params[\"W1\"]\n",
    "    W2 = params[\"W2\"]\n",
    "    \n",
    "    # 第一个卷积层\n",
    "    Z1 = tf.nn.conv2d(X,W1,strides=[1,1,1,1],padding=\"SAME\")\n",
    "    A1 = tf.nn.relu(Z1)\n",
    "    P1 = tf.nn.max_pool(A1,ksize=[1,8,8,1],strides=[1,8,8,1],padding=\"SAME\")\n",
    "    \n",
    "    # 第二个卷积层\n",
    "    Z2 = tf.nn.conv2d(P1,W2,strides=[1,1,1,1],padding=\"SAME\")\n",
    "    A2 = tf.nn.relu(Z2)\n",
    "    P2 = tf.nn.max_pool(A2,ksize=[1,4,4,1],strides=[1,4,4,1],padding=\"SAME\")\n",
    "    \n",
    "    # 将图像向量化，为全连接层做准备\n",
    "    flatten_vec = tf.contrib.layers.flatten(P2)\n",
    "    \n",
    "    # 最后一层全连接层不使用激活函数\n",
    "    # 因为计算cost function的函数已经将softmax集成在内\n",
    "    Z3 = tf.contrib.layers.fully_connected(flatten_vec,6,activation_fn=None)\n",
    "    \n",
    "    return Z3"
   ]
  },
  {
   "cell_type": "code",
   "execution_count": 8,
   "metadata": {},
   "outputs": [
    {
     "name": "stdout",
     "output_type": "stream",
     "text": [
      "Z3 = [[ 1.4416984  -0.24909666  5.450499   -0.2618962  -0.20669907  1.3654671 ]\n",
      " [ 1.4070846  -0.02573211  5.08928    -0.48669922 -0.40940708  1.2624859 ]]\n"
     ]
    }
   ],
   "source": [
    "# 测试\n",
    "tf.reset_default_graph()\n",
    "np.random.seed(1)\n",
    "\n",
    "with tf.Session() as session:\n",
    "    X,Y = create_placeholders(64,64,3,6)\n",
    "    params = init_params()\n",
    "    Z3 = forward_propagation(X,params)\n",
    "    \n",
    "    init = tf.global_variables_initializer()\n",
    "    session.run(init)\n",
    "    value = session.run(Z3,feed_dict={X:np.random.randn(2,64,64,3),Y:np.random.randn(2,6)})\n",
    "    print(\"Z3 = \"+str(value))\n",
    "    \n"
   ]
  },
  {
   "cell_type": "markdown",
   "metadata": {},
   "source": [
    "#### 2.5 计算cost function"
   ]
  },
  {
   "cell_type": "code",
   "execution_count": 9,
   "metadata": {},
   "outputs": [],
   "source": [
    "def compute_cost(Z3,Y):\n",
    "    cost = tf.reduce_mean(tf.nn.softmax_cross_entropy_with_logits(logits=Z3,labels=Y))\n",
    "    return cost"
   ]
  },
  {
   "cell_type": "code",
   "execution_count": 11,
   "metadata": {},
   "outputs": [
    {
     "name": "stdout",
     "output_type": "stream",
     "text": [
      "WARNING:tensorflow:From <ipython-input-9-0f43acde5c2f>:2: softmax_cross_entropy_with_logits (from tensorflow.python.ops.nn_ops) is deprecated and will be removed in a future version.\n",
      "Instructions for updating:\n",
      "\n",
      "Future major versions of TensorFlow will allow gradients to flow\n",
      "into the labels input on backprop by default.\n",
      "\n",
      "See @{tf.nn.softmax_cross_entropy_with_logits_v2}.\n",
      "\n",
      "cost = 4.66487\n"
     ]
    }
   ],
   "source": [
    "# 测试\n",
    "tf.reset_default_graph()\n",
    "with tf.Session() as session:\n",
    "    np.random.seed(1)\n",
    "    X,Y = create_placeholders(64,64,3,6)\n",
    "    params = init_params()\n",
    "    Z3 = forward_propagation(X,params)\n",
    "    cost = compute_cost(Z3,Y)\n",
    "    \n",
    "    init = tf.global_variables_initializer()\n",
    "    session.run(init)\n",
    "    \n",
    "    cost_value = session.run(cost,feed_dict={X:np.random.randn(4,64,64,3),Y:np.random.randn(4,6)})\n",
    "    print(\"cost = \"+str(cost_value))"
   ]
  },
  {
   "cell_type": "markdown",
   "metadata": {},
   "source": [
    "#### 2.5 构建模型"
   ]
  },
  {
   "cell_type": "code",
   "execution_count": 20,
   "metadata": {},
   "outputs": [],
   "source": [
    "def model(X_train,Y_train,X_test,Y_test,learning_rate=0.002,\n",
    "         num_epochs=100,minibatch_size=64,print_cost=True,isPlot=True):\n",
    "    ops.reset_default_graph()\n",
    "    tf.set_random_seed(1)\n",
    "    seed = 3\n",
    "    (m,n_h,n_w,n_c) = X_train.shape\n",
    "    (m,n_y) = Y_train.shape\n",
    "    costs=[]\n",
    "    \n",
    "    X,Y = create_placeholders(n_h,n_w,n_c,n_y)\n",
    "    params = init_params()\n",
    "    Z3 = forward_propagation(X,params)\n",
    "    cost = compute_cost(Z3,Y)\n",
    "    optimizer = tf.train.AdamOptimizer(learning_rate=learning_rate).minimize(cost)\n",
    "    \n",
    "    init = tf.global_variables_initializer()\n",
    "\n",
    "    \n",
    "    with tf.Session() as session:\n",
    "        session.run(init)\n",
    "        for i in range(num_epochs):\n",
    "            epoch_cost = 0\n",
    "            num_minibatches = int(m/minibatch_size)\n",
    "            seed = seed + 1\n",
    "            minibatches = cnn_utils.random_mini_batches(X_train,Y_train,minibatch_size,seed)\n",
    "            \n",
    "            for minibatch in minibatches:\n",
    "                (minibatch_X,minibatch_Y) = minibatch\n",
    "                _,minibatch_cost = session.run([optimizer,cost],feed_dict={X:minibatch_X,Y:minibatch_Y})\n",
    "                epoch_cost = epoch_cost + minibatch_cost/num_minibatches\n",
    "            \n",
    "            costs.append(epoch_cost)\n",
    "            if print_cost:\n",
    "                if i%5==0:\n",
    "                    print(\"Epoch \"+str(i)+\" Cost:\"+str(epoch_cost))\n",
    "        if isPlot:\n",
    "            plt.plot(np.squeeze(costs))\n",
    "            plt.xlabel(\"#Epoch\")\n",
    "            plt.ylabel(\"Epoch cost\")\n",
    "            plt.title(\"Learning rate = \"+str(learning_rate))\n",
    "            plt.show()\n",
    "        \n",
    "        # predict\n",
    "        predict_correction = tf.equal(tf.arg_max(Z3,1),tf.arg_max(Y,1))\n",
    "        \n",
    "        accuracy = tf.reduce_mean(tf.cast(predict_correction,\"float\"))\n",
    "        \n",
    "        print(\"Training set acc:\"+str(session.run(accuracy,feed_dict={X:X_train,Y:Y_train})))\n",
    "        print(\"Test set acc:\"+str(session.run(accuracy,feed_dict={X:X_test,Y:Y_test})))\n",
    "        \n",
    "        params = session.run(params)\n",
    "        \n",
    "        return params\n",
    "        "
   ]
  },
  {
   "cell_type": "code",
   "execution_count": 22,
   "metadata": {},
   "outputs": [
    {
     "name": "stdout",
     "output_type": "stream",
     "text": [
      "Epoch 0 Cost:1.9430876225233078\n",
      "Epoch 5 Cost:1.885388806462288\n",
      "Epoch 10 Cost:1.8228105157613754\n",
      "Epoch 15 Cost:1.5989352390170097\n",
      "Epoch 20 Cost:1.2464927360415459\n",
      "Epoch 25 Cost:0.9880656562745571\n",
      "Epoch 30 Cost:0.8646907396614552\n",
      "Epoch 35 Cost:0.7571775168180466\n",
      "Epoch 40 Cost:0.6898637302219868\n",
      "Epoch 45 Cost:0.6205716617405415\n",
      "Epoch 50 Cost:0.5571617502719164\n",
      "Epoch 55 Cost:0.521250918507576\n",
      "Epoch 60 Cost:0.4884836673736572\n",
      "Epoch 65 Cost:0.46251425333321095\n",
      "Epoch 70 Cost:0.45252873934805393\n",
      "Epoch 75 Cost:0.44545910879969597\n",
      "Epoch 80 Cost:0.4099361412227154\n",
      "Epoch 85 Cost:0.3647094676271081\n",
      "Epoch 90 Cost:0.3399782255291939\n",
      "Epoch 95 Cost:0.3481976930052042\n",
      "Epoch 100 Cost:0.34533446561545134\n",
      "Epoch 105 Cost:0.3236722210422158\n",
      "Epoch 110 Cost:0.2998514277860522\n",
      "Epoch 115 Cost:0.2775794165208936\n",
      "Epoch 120 Cost:0.2975915437564254\n",
      "Epoch 125 Cost:0.2597395973280072\n",
      "Epoch 130 Cost:0.25142234470695257\n",
      "Epoch 135 Cost:0.2633524853736162\n",
      "Epoch 140 Cost:0.2550490126013756\n",
      "Epoch 145 Cost:0.22936622146517038\n",
      "Epoch 150 Cost:0.2139335200190544\n",
      "Epoch 155 Cost:0.2191516701132059\n",
      "Epoch 160 Cost:0.19904889166355133\n",
      "Epoch 165 Cost:0.17873489391058683\n",
      "Epoch 170 Cost:0.17379569169133902\n",
      "Epoch 175 Cost:0.17833860404789448\n",
      "Epoch 180 Cost:0.19944753497838974\n",
      "Epoch 185 Cost:0.17425695154815912\n",
      "Epoch 190 Cost:0.15768690593540668\n",
      "Epoch 195 Cost:0.14723294042050838\n",
      "Epoch 200 Cost:0.14418091205880046\n",
      "Epoch 205 Cost:0.13573897909373045\n",
      "Epoch 210 Cost:0.12943431898020208\n",
      "Epoch 215 Cost:0.13486940180882812\n",
      "Epoch 220 Cost:0.1386919771321118\n",
      "Epoch 225 Cost:0.12288473919034004\n",
      "Epoch 230 Cost:0.1490848157554865\n",
      "Epoch 235 Cost:0.13104982255026698\n",
      "Epoch 240 Cost:0.13142357300966978\n",
      "Epoch 245 Cost:0.14505522977560759\n",
      "Epoch 250 Cost:0.11173580843023956\n",
      "Epoch 255 Cost:0.10797239816747606\n",
      "Epoch 260 Cost:0.13016098109073937\n",
      "Epoch 265 Cost:0.11850704299286008\n",
      "Epoch 270 Cost:0.12409660220146179\n",
      "Epoch 275 Cost:0.09465548815205693\n",
      "Epoch 280 Cost:0.08460025046952069\n",
      "Epoch 285 Cost:0.1229292587377131\n",
      "Epoch 290 Cost:0.09049350628629327\n",
      "Epoch 295 Cost:0.08401663834229112\n",
      "Epoch 300 Cost:0.07689511904027313\n",
      "Epoch 305 Cost:0.08122029132209718\n",
      "Epoch 310 Cost:0.08709213719703257\n",
      "Epoch 315 Cost:0.07241054787300527\n",
      "Epoch 320 Cost:0.0700670222286135\n",
      "Epoch 325 Cost:0.06766981538385153\n",
      "Epoch 330 Cost:0.07555580232292414\n",
      "Epoch 335 Cost:0.06362081505358219\n",
      "Epoch 340 Cost:0.06980216107331216\n",
      "Epoch 345 Cost:0.06438518187496811\n",
      "Epoch 350 Cost:0.06656836648471653\n",
      "Epoch 355 Cost:0.06115164782386273\n",
      "Epoch 360 Cost:0.07539809588342905\n",
      "Epoch 365 Cost:0.05309871747158468\n",
      "Epoch 370 Cost:0.05868053575977683\n",
      "Epoch 375 Cost:0.045940657146275043\n",
      "Epoch 380 Cost:0.04885629320051521\n",
      "Epoch 385 Cost:0.062150359502993524\n",
      "Epoch 390 Cost:0.08998305350542068\n",
      "Epoch 395 Cost:0.0431652165716514\n",
      "Epoch 400 Cost:0.03704511985415593\n",
      "Epoch 405 Cost:0.04388713603839278\n",
      "Epoch 410 Cost:0.03815146419219673\n",
      "Epoch 415 Cost:0.04828014370286837\n",
      "Epoch 420 Cost:0.04789752478245646\n",
      "Epoch 425 Cost:0.031139965693000704\n",
      "Epoch 430 Cost:0.03593814774649218\n",
      "Epoch 435 Cost:0.037871925975196064\n",
      "Epoch 440 Cost:0.06378071603830904\n",
      "Epoch 445 Cost:0.03876650985330343\n",
      "Epoch 450 Cost:0.03237007698044181\n",
      "Epoch 455 Cost:0.034624277614057064\n",
      "Epoch 460 Cost:0.05335261404979974\n",
      "Epoch 465 Cost:0.026875989453401417\n",
      "Epoch 470 Cost:0.02599284122698009\n",
      "Epoch 475 Cost:0.03526538028381765\n",
      "Epoch 480 Cost:0.032967649516649544\n",
      "Epoch 485 Cost:0.025588358752429485\n",
      "Epoch 490 Cost:0.03331352403620258\n",
      "Epoch 495 Cost:0.04546476999530569\n",
      "Epoch 500 Cost:0.020493189513217658\n",
      "Epoch 505 Cost:0.02099610964069143\n",
      "Epoch 510 Cost:0.017197915818542242\n",
      "Epoch 515 Cost:0.02388142392737791\n",
      "Epoch 520 Cost:0.021834100654814392\n",
      "Epoch 525 Cost:0.02585161419119686\n",
      "Epoch 530 Cost:0.020180681138299406\n",
      "Epoch 535 Cost:0.017591094598174095\n",
      "Epoch 540 Cost:0.014394731784705073\n",
      "Epoch 545 Cost:0.07613269431749359\n",
      "Epoch 550 Cost:0.016333774343365803\n",
      "Epoch 555 Cost:0.012179781420854852\n",
      "Epoch 560 Cost:0.012686092348303646\n",
      "Epoch 565 Cost:0.015608602785505354\n",
      "Epoch 570 Cost:0.0123767685436178\n",
      "Epoch 575 Cost:0.01168681264971383\n",
      "Epoch 580 Cost:0.013347953499760479\n",
      "Epoch 585 Cost:0.04024554154602811\n",
      "Epoch 590 Cost:0.011991426057647914\n",
      "Epoch 595 Cost:0.010260425682645291\n"
     ]
    },
    {
     "data": {
      "image/png": "[encoded data removed]",
      "text/plain": [
       "<Figure size 432x288 with 1 Axes>"
      ]
     },
     "metadata": {
      "needs_background": "light"
     },
     "output_type": "display_data"
    },
    {
     "name": "stdout",
     "output_type": "stream",
     "text": [
      "Training set acc:1.0\n",
      "Test set acc:0.925\n"
     ]
    }
   ],
   "source": [
    "# Train \n",
    "params = model(X_train,Y_train,X_test,Y_test,num_epochs=600)"
   ]
  },
  {
   "cell_type": "code",
   "execution_count": null,
   "metadata": {},
   "outputs": [],
   "source": []
  }
 ],
 "metadata": {
  "kernelspec": {
   "display_name": "Python 3",
   "language": "python",
   "name": "python3"
  },
  "language_info": {
   "codemirror_mode": {
    "name": "ipython",
    "version": 3
   },
   "file_extension": ".py",
   "mimetype": "text/x-python",
   "name": "python",
   "nbconvert_exporter": "python",
   "pygments_lexer": "ipython3",
   "version": "3.6.10"
  }
 },
 "nbformat": 4,
 "nbformat_minor": 4
}

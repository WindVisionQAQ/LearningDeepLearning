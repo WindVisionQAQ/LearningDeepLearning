{
 "cells": [
  {
   "cell_type": "markdown",
   "metadata": {},
   "source": [
    "### 1. 不使用框架搭建CNN"
   ]
  },
  {
   "cell_type": "markdown",
   "metadata": {},
   "source": [
    "#### 1.1 引入库"
   ]
  },
  {
   "cell_type": "code",
   "execution_count": 1,
   "metadata": {},
   "outputs": [],
   "source": [
    "import numpy as np\n",
    "import h5py\n",
    "import matplotlib.pyplot as plt\n",
    "\n",
    "%matplotlib inline\n",
    "plt.rcParams['figure.figsize'] = (5.0,4.0)\n",
    "plt.rcParams['image.interpolation'] = 'nearest'\n",
    "plt.rcParams['image.cmap'] = 'gray'\n",
    "\n",
    "%load_ext autoreload\n",
    "\n",
    "%autoreload 2\n",
    "\n",
    "np.random.seed(1)"
   ]
  },
  {
   "cell_type": "markdown",
   "metadata": {},
   "source": [
    "#### 1.2 zero padding"
   ]
  },
  {
   "cell_type": "code",
   "execution_count": 2,
   "metadata": {},
   "outputs": [],
   "source": [
    "def zero_pad(X,pad):\n",
    "    \"\"\"\n",
    "    参数：\n",
    "        X - 图像数据集，维度为（样本数，图像高度，图像宽度，通道数）\n",
    "        pad - padding的单元数\n",
    "    返回：\n",
    "        X_paded - padding后的图像数据集 \n",
    "    \"\"\"\n",
    "    X_paded = np.pad(X,((0,0),(pad,pad),(pad,pad),(0,0)),'constant',constant_values=(0,0))\n",
    "    return X_paded"
   ]
  },
  {
   "cell_type": "code",
   "execution_count": 3,
   "metadata": {},
   "outputs": [
    {
     "name": "stdout",
     "output_type": "stream",
     "text": [
      "x.shape = (4, 3, 3, 2)\n",
      "x_paded.shape = (4, 7, 7, 2)\n"
     ]
    }
   ],
   "source": [
    "# 测试zero_pad\n",
    "np.random.seed(1)\n",
    "x = np.random.randn(4,3,3,2)\n",
    "x_paded = zero_pad(x,2)\n",
    "\n",
    "print(\"x.shape = \"+str(x.shape))\n",
    "print(\"x_paded.shape = \"+str(x_paded.shape))"
   ]
  },
  {
   "cell_type": "markdown",
   "metadata": {},
   "source": [
    "#### 1.3 单步卷积"
   ]
  },
  {
   "cell_type": "code",
   "execution_count": 6,
   "metadata": {},
   "outputs": [],
   "source": [
    "def conv_single_step(a_slice_prev,W,b):\n",
    "    \"\"\"\n",
    "    参数：\n",
    "        W - 卷积核\n",
    "        a_slice_prev - 与卷积核size相同的图像的一部分\n",
    "        b - bias\n",
    "    返回：\n",
    "        Z - 进行一次单步卷积的结果\n",
    "    \"\"\"\n",
    "    temp = np.multiply(a_slice_prev,W)+b\n",
    "    Z = np.sum(temp)\n",
    "    \n",
    "    return Z"
   ]
  },
  {
   "cell_type": "code",
   "execution_count": 7,
   "metadata": {},
   "outputs": [
    {
     "name": "stdout",
     "output_type": "stream",
     "text": [
      "Z = -23.16021220252078\n"
     ]
    }
   ],
   "source": [
    "# 测试conv_single_step\n",
    "np.random.seed(1)\n",
    "\n",
    "a_slice_prev = np.random.randn(4,4,3)\n",
    "W = np.random.randn(4,4,3)\n",
    "b = np.random.randn(1,1,1)\n",
    "\n",
    "Z = conv_single_step(a_slice_prev,W,b)\n",
    "print(\"Z = \"+str(Z))"
   ]
  },
  {
   "cell_type": "markdown",
   "metadata": {},
   "source": [
    "#### 1.4 卷积层前向传播"
   ]
  },
  {
   "cell_type": "code",
   "execution_count": 12,
   "metadata": {},
   "outputs": [],
   "source": [
    "def conv_forward(A_prev,W,b,hparameters):\n",
    "    \"\"\"\n",
    "    参数：\n",
    "        A_prev - (m,n_h_prev,n_w_prev,n_c_prev)维度\n",
    "        W - (f,f,n_c_prev,n_c)维度\n",
    "        b - bias (1,1,1)\n",
    "        hparameters - 包含stride 和 pad参数的字典\n",
    "    返回：\n",
    "        Z - 卷积+bias后的输出\n",
    "        cache - 中间值 bp时会用到\n",
    "    \"\"\"\n",
    "    # 获取输入的size\n",
    "    (m,n_h_prev,n_w_prev,n_c_prev) = A_prev.shape\n",
    "    # 获取卷积核size\n",
    "    (f,f,n_c_prev,n_c) = W.shape\n",
    "    \n",
    "    # 获取stride和pad超参数\n",
    "    s = hparameters[\"stride\"]\n",
    "    p = hparameters[\"pad\"]\n",
    "    \n",
    "    # 初始化输出Z\n",
    "    n_h = int((n_h_prev+2*p-f)/s)+1\n",
    "    n_w = int((n_w_prev+2*p-f)/s)+1\n",
    "    Z = np.zeros((m,n_h,n_w,n_c))\n",
    "    \n",
    "    # padding\n",
    "    A_prev_padding = zero_pad(A_prev,p)\n",
    "    \n",
    "    # 计算Z\n",
    "    for i in range(m):\n",
    "        # 取出第i个图像\n",
    "        a_prev_padding = A_prev_padding[i]\n",
    "        for h in range(n_h):\n",
    "            for w in range(n_w):\n",
    "                for c in range(n_c):\n",
    "                    # 获得a_slice_prev\n",
    "                    vertical_start = h*s\n",
    "                    vertical_end = vertical_start + f\n",
    "                    horizontal_start = w*s\n",
    "                    horizontal_end = horizontal_start + f\n",
    "                    a_slice_prev = a_prev_padding[vertical_start:vertical_end,horizontal_start:horizontal_end,:]\n",
    "                    \n",
    "                    # single conv\n",
    "                    Z[i,h,w,c] = conv_single_step(a_slice_prev,W[:,:,:,c],b[:,:,:,c])\n",
    "    cache = (A_prev,W,b,hparameters)\n",
    "    return Z,cache"
   ]
  },
  {
   "cell_type": "code",
   "execution_count": 13,
   "metadata": {},
   "outputs": [
    {
     "name": "stdout",
     "output_type": "stream",
     "text": [
      "np.mean(Z) = 0.15585932488906465\n",
      "cache_conv[0][1][2][3] = [-0.20075807  0.18656139  0.41005165]\n"
     ]
    }
   ],
   "source": [
    "# 测试conv_forward\n",
    "np.random.seed(1)\n",
    "A_prev = np.random.randn(10,4,4,3)\n",
    "W = np.random.randn(2,2,3,8)\n",
    "b = np.random.randn(1,1,1,8)\n",
    "\n",
    "hparameters = {\"pad\":2,\"stride\":1}\n",
    "Z,cache_conv = conv_forward(A_prev,W,b,hparameters)\n",
    "\n",
    "print(\"np.mean(Z) = \"+str(np.mean(Z)))\n",
    "print(\"cache_conv[0][1][2][3] = \"+str(cache_conv[0][1][2][3]))"
   ]
  },
  {
   "cell_type": "code",
   "execution_count": null,
   "metadata": {},
   "outputs": [],
   "source": []
  }
 ],
 "metadata": {
  "kernelspec": {
   "display_name": "Python 3",
   "language": "python",
   "name": "python3"
  },
  "language_info": {
   "codemirror_mode": {
    "name": "ipython",
    "version": 3
   },
   "file_extension": ".py",
   "mimetype": "text/x-python",
   "name": "python",
   "nbconvert_exporter": "python",
   "pygments_lexer": "ipython3",
   "version": "3.6.10"
  }
 },
 "nbformat": 4,
 "nbformat_minor": 4
}

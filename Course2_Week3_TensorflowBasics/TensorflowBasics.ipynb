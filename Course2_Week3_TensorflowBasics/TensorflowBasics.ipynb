{
 "cells": [
  {
   "cell_type": "markdown",
   "metadata": {},
   "source": [
    "### 1. import tensorflow and tensorflow basics"
   ]
  },
  {
   "cell_type": "code",
   "execution_count": 1,
   "metadata": {},
   "outputs": [
    {
     "name": "stderr",
     "output_type": "stream",
     "text": [
      "D:\\Tools\\Anaconda3\\envs\\tf1\\lib\\site-packages\\tensorflow\\python\\framework\\dtypes.py:519: FutureWarning: Passing (type, 1) or '1type' as a synonym of type is deprecated; in a future version of numpy, it will be understood as (type, (1,)) / '(1,)type'.\n",
      "  _np_qint8 = np.dtype([(\"qint8\", np.int8, 1)])\n",
      "D:\\Tools\\Anaconda3\\envs\\tf1\\lib\\site-packages\\tensorflow\\python\\framework\\dtypes.py:520: FutureWarning: Passing (type, 1) or '1type' as a synonym of type is deprecated; in a future version of numpy, it will be understood as (type, (1,)) / '(1,)type'.\n",
      "  _np_quint8 = np.dtype([(\"quint8\", np.uint8, 1)])\n",
      "D:\\Tools\\Anaconda3\\envs\\tf1\\lib\\site-packages\\tensorflow\\python\\framework\\dtypes.py:521: FutureWarning: Passing (type, 1) or '1type' as a synonym of type is deprecated; in a future version of numpy, it will be understood as (type, (1,)) / '(1,)type'.\n",
      "  _np_qint16 = np.dtype([(\"qint16\", np.int16, 1)])\n",
      "D:\\Tools\\Anaconda3\\envs\\tf1\\lib\\site-packages\\tensorflow\\python\\framework\\dtypes.py:522: FutureWarning: Passing (type, 1) or '1type' as a synonym of type is deprecated; in a future version of numpy, it will be understood as (type, (1,)) / '(1,)type'.\n",
      "  _np_quint16 = np.dtype([(\"quint16\", np.uint16, 1)])\n",
      "D:\\Tools\\Anaconda3\\envs\\tf1\\lib\\site-packages\\tensorflow\\python\\framework\\dtypes.py:523: FutureWarning: Passing (type, 1) or '1type' as a synonym of type is deprecated; in a future version of numpy, it will be understood as (type, (1,)) / '(1,)type'.\n",
      "  _np_qint32 = np.dtype([(\"qint32\", np.int32, 1)])\n",
      "D:\\Tools\\Anaconda3\\envs\\tf1\\lib\\site-packages\\tensorflow\\python\\framework\\dtypes.py:528: FutureWarning: Passing (type, 1) or '1type' as a synonym of type is deprecated; in a future version of numpy, it will be understood as (type, (1,)) / '(1,)type'.\n",
      "  np_resource = np.dtype([(\"resource\", np.ubyte, 1)])\n"
     ]
    }
   ],
   "source": [
    "import numpy as np\n",
    "import h5py\n",
    "import matplotlib.pyplot as plt\n",
    "import tensorflow as tf\n",
    "from tensorflow.python.framework import ops\n",
    "import tf_utils\n",
    "import time\n",
    "\n",
    "np.random.seed(1)"
   ]
  },
  {
   "cell_type": "markdown",
   "metadata": {},
   "source": [
    "#### 1.1 Example: Compute loss function"
   ]
  },
  {
   "cell_type": "code",
   "execution_count": 4,
   "metadata": {},
   "outputs": [
    {
     "name": "stdout",
     "output_type": "stream",
     "text": [
      "9\n"
     ]
    }
   ],
   "source": [
    "# Use tf.constant to define a constant number\n",
    "# Ensure values first, then ensure names\n",
    "y_hat = tf.constant(36,name=\"y_hat\")\n",
    "y = tf.constant(39,name=\"y\")\n",
    "\n",
    "# Use tf.Variable to define a variable\n",
    "# Ensure values first, then ensure names\n",
    "loss = tf.Variable((y-y_hat)**2,name=\"loss\")\n",
    "\n",
    "# init\n",
    "init = tf.global_variables_initializer()\n",
    "\n",
    "# Create session\n",
    "with tf.Session() as session:\n",
    "    session.run(init)\n",
    "    print(session.run(loss))"
   ]
  },
  {
   "cell_type": "code",
   "execution_count": 5,
   "metadata": {},
   "outputs": [
    {
     "name": "stdout",
     "output_type": "stream",
     "text": [
      "Tensor(\"mul:0\", shape=(), dtype=int32)\n"
     ]
    }
   ],
   "source": [
    "a = tf.constant(2)\n",
    "b = tf.constant(10)\n",
    "c = a * b\n",
    "\n",
    "print(c)"
   ]
  },
  {
   "cell_type": "markdown",
   "metadata": {},
   "source": [
    "可以发现 c并不是20 而是一个**张量(Tensor)** \n",
    "\n",
    "Tensorflow框架将数量和计算过程放置到**计算图(Computation Graph)**中，需要创建一个**会话**以运行计算图"
   ]
  },
  {
   "cell_type": "code",
   "execution_count": 6,
   "metadata": {},
   "outputs": [
    {
     "name": "stdout",
     "output_type": "stream",
     "text": [
      "20\n"
     ]
    }
   ],
   "source": [
    "sess = tf.Session()\n",
    "print(sess.run(c))"
   ]
  },
  {
   "cell_type": "markdown",
   "metadata": {},
   "source": [
    "有时我们事先并不知道一个变量的值，这时就需要**占位符(placeholder)**，需要指定变量的类型\n",
    "\n",
    "指定占位符的值通过**feed_dict**字典完成，例如："
   ]
  },
  {
   "cell_type": "code",
   "execution_count": 10,
   "metadata": {},
   "outputs": [
    {
     "name": "stdout",
     "output_type": "stream",
     "text": [
      "6\n"
     ]
    }
   ],
   "source": [
    "x = tf.placeholder(tf.int64,name=\"x\")\n",
    "print(sess.run(2*x,feed_dict={x:3}))"
   ]
  },
  {
   "cell_type": "markdown",
   "metadata": {},
   "source": [
    "#### 1.2 Linear Function"
   ]
  },
  {
   "cell_type": "markdown",
   "metadata": {},
   "source": [
    "计算线性函数 Y = WX + b 其中W和X为矩阵，b为向量"
   ]
  },
  {
   "cell_type": "code",
   "execution_count": 15,
   "metadata": {},
   "outputs": [],
   "source": [
    "def linear_function():\n",
    "    np.random.seed(1)\n",
    "    X = np.random.randn(3,1)\n",
    "    W = np.random.randn(4,3)\n",
    "    b = np.random.randn(4,1)\n",
    "    \n",
    "    Y = tf.matmul(W,X) + b\n",
    "    \n",
    "    with tf.Session() as sess:\n",
    "        result = sess.run(Y)\n",
    "    \n",
    "    return result"
   ]
  },
  {
   "cell_type": "code",
   "execution_count": 16,
   "metadata": {},
   "outputs": [
    {
     "name": "stdout",
     "output_type": "stream",
     "text": [
      "[[-2.15657382]\n",
      " [ 2.95891446]\n",
      " [-1.08926781]\n",
      " [-0.84538042]]\n"
     ]
    }
   ],
   "source": [
    "print(linear_function())"
   ]
  },
  {
   "cell_type": "markdown",
   "metadata": {},
   "source": [
    "#### 1.3 Sigmoid"
   ]
  },
  {
   "cell_type": "markdown",
   "metadata": {},
   "source": [
    "tensorflow提供了tf.sigmoid运算，需要占位符和feed_dict"
   ]
  },
  {
   "cell_type": "code",
   "execution_count": 17,
   "metadata": {},
   "outputs": [],
   "source": [
    "def sigmoid(z):\n",
    "    x = tf.placeholder(tf.float32,name=\"x\")\n",
    "    \n",
    "    with tf.Session() as session:\n",
    "        res = session.run(tf.sigmoid(x),feed_dict={x:z})\n",
    "    return res"
   ]
  },
  {
   "cell_type": "code",
   "execution_count": 18,
   "metadata": {},
   "outputs": [
    {
     "name": "stdout",
     "output_type": "stream",
     "text": [
      "sigmoid(0) = 0.5\n",
      "sigmoid(12) = 0.9999938\n"
     ]
    }
   ],
   "source": [
    "print(\"sigmoid(0) = \"+str(sigmoid(0)))\n",
    "print(\"sigmoid(12) = \"+str(sigmoid(12)))"
   ]
  },
  {
   "cell_type": "markdown",
   "metadata": {},
   "source": [
    "#### 1.4 Cost Function"
   ]
  },
  {
   "cell_type": "markdown",
   "metadata": {},
   "source": [
    "交叉熵代价函数在tensorflow中集成，不需要自己手动编写"
   ]
  },
  {
   "cell_type": "markdown",
   "metadata": {},
   "source": [
    "#### 1.5 One-hot"
   ]
  },
  {
   "cell_type": "markdown",
   "metadata": {},
   "source": [
    "在多分类问题中，不同种类的标签可能是0,1,2....我们希望将这种实数标签转化为One-hot型的标签，即构成一个向量，向量中只有一个元素为1.\n",
    "在Tensorflow中tf.one_hot函数可以完成实数标签到one-hot类型的转换"
   ]
  },
  {
   "cell_type": "code",
   "execution_count": 20,
   "metadata": {},
   "outputs": [],
   "source": [
    "def one_hot_matrix(labels,C):\n",
    "    \"\"\"\n",
    "    labels:实数标签列表\n",
    "    C:分类个数\n",
    "    \"\"\"\n",
    "    C = tf.constant(C,name=\"C\")\n",
    "    \n",
    "    matrix = tf.one_hot(labels,C,axis=0)\n",
    "    \n",
    "    with tf.Session() as session:\n",
    "        result = session.run(matrix)\n",
    "    return result"
   ]
  },
  {
   "cell_type": "markdown",
   "metadata": {},
   "source": [
    "测试："
   ]
  },
  {
   "cell_type": "code",
   "execution_count": 21,
   "metadata": {
    "scrolled": true
   },
   "outputs": [
    {
     "name": "stdout",
     "output_type": "stream",
     "text": [
      "[[0. 0. 0. 1. 0. 0.]\n",
      " [1. 0. 0. 0. 0. 1.]\n",
      " [0. 1. 0. 0. 1. 0.]\n",
      " [0. 0. 1. 0. 0. 0.]]\n"
     ]
    }
   ],
   "source": [
    "labels = np.array([1,2,3,0,2,1])\n",
    "one_hot = one_hot_matrix(labels,4)\n",
    "print(one_hot)"
   ]
  },
  {
   "cell_type": "markdown",
   "metadata": {},
   "source": [
    "#### 1.6 初始化\n",
    "tf.ones()和tf.zeros()分别是初始化全1和全0的矩阵"
   ]
  },
  {
   "cell_type": "code",
   "execution_count": 22,
   "metadata": {},
   "outputs": [],
   "source": [
    "def ones(shape):\n",
    "    ones = tf.ones(shape)\n",
    "    \n",
    "    with tf.Session() as session:\n",
    "        res = session.run(ones)\n",
    "    return res"
   ]
  },
  {
   "cell_type": "markdown",
   "metadata": {},
   "source": [
    "shape参数是一个包含维度信息的**列表（list）** 比如[3,1]表示一个3x1的向量"
   ]
  },
  {
   "cell_type": "code",
   "execution_count": 29,
   "metadata": {},
   "outputs": [
    {
     "name": "stdout",
     "output_type": "stream",
     "text": [
      "ones = [[1.]\n",
      " [1.]\n",
      " [1.]]\n"
     ]
    }
   ],
   "source": [
    "print(\"ones = \"+str(ones(([3,1]))))"
   ]
  },
  {
   "cell_type": "markdown",
   "metadata": {},
   "source": [
    "### 2. 使用Tensorflow构建NN"
   ]
  },
  {
   "cell_type": "markdown",
   "metadata": {},
   "source": [
    "加载数据集："
   ]
  },
  {
   "cell_type": "code",
   "execution_count": 3,
   "metadata": {},
   "outputs": [
    {
     "name": "stdout",
     "output_type": "stream",
     "text": [
      "Y = 0\n"
     ]
    },
    {
     "data": {
      "image/png": "[encoded data removed]",
      "text/plain": [
       "<Figure size 432x288 with 1 Axes>"
      ]
     },
     "metadata": {
      "needs_background": "light"
     },
     "output_type": "display_data"
    }
   ],
   "source": [
    "X_train_orig,Y_train_orig,X_test_orig,Y_test_orig,classes = tf_utils.load_dataset()\n",
    "index = 1\n",
    "plt.imshow(X_train_orig[index])\n",
    "print(\"Y = \"+str(np.squeeze(Y_train_orig[:,index])))"
   ]
  },
  {
   "cell_type": "markdown",
   "metadata": {},
   "source": [
    "数据的向量化、扁平化处理，标签的one_hot处理："
   ]
  },
  {
   "cell_type": "code",
   "execution_count": 6,
   "metadata": {},
   "outputs": [
    {
     "name": "stdout",
     "output_type": "stream",
     "text": [
      "X_train.shape:(12288, 1080)\n",
      "Y_train.shape:(6, 1080)\n",
      "X_test.shape:(12288, 120)\n",
      "Y_test.shape:(6, 120)\n"
     ]
    }
   ],
   "source": [
    "# 向量化\n",
    "X_train_vec = X_train_orig.reshape(X_train_orig.shape[0],-1).T\n",
    "X_test_vec = X_test_orig.reshape(X_test_orig.shape[0],-1).T\n",
    "\n",
    "# 扁平化\n",
    "X_train = X_train_vec/255\n",
    "X_test = X_test_vec/255\n",
    "\n",
    "# one hot\n",
    "Y_train = tf_utils.convert_to_one_hot(Y_train_orig,6)\n",
    "Y_test = tf_utils.convert_to_one_hot(Y_test_orig,6)\n",
    "\n",
    "print(\"X_train.shape:\"+str(X_train.shape))\n",
    "print(\"Y_train.shape:\"+str(Y_train.shape))\n",
    "print(\"X_test.shape:\"+str(X_test.shape))\n",
    "print(\"Y_test.shape:\"+str(Y_test.shape))"
   ]
  },
  {
   "cell_type": "markdown",
   "metadata": {},
   "source": [
    "我们的目的是利用Tensorflow构建一个三层的NN，结构大致如下：\n",
    "Linear -> Relu -> Linear -> Relu -> linear -> softmax"
   ]
  },
  {
   "cell_type": "markdown",
   "metadata": {},
   "source": [
    "#### 2.1 为输入X和输出Y构建占位符（placeholder）\n",
    "tf.placeholder第二个参数用于规定占位符的size，None参数表示该尺度上的大小不确定，所以可以用于灵活处理数据规模。"
   ]
  },
  {
   "cell_type": "code",
   "execution_count": 7,
   "metadata": {},
   "outputs": [],
   "source": [
    "def create_placeholders(n_x,n_y):\n",
    "    \"\"\"\n",
    "    参数：\n",
    "        n_x - 一个图片向量的像素数\n",
    "        n_y - 图片的类型个数\n",
    "    返回：\n",
    "        X - 代表训练/测试数据的张量，size为[n_x,None]\n",
    "        Y - 代表训练/测试标签的张量，size为[n_y,None]\n",
    "    \"\"\"\n",
    "    \n",
    "    X = tf.placeholder(tf.float32,[n_x,None],name=\"X\")\n",
    "    Y = tf.placeholder(tf.float32,[n_y,None],name=\"Y\")\n",
    "    \n",
    "    return X,Y"
   ]
  },
  {
   "cell_type": "markdown",
   "metadata": {},
   "source": [
    "测试："
   ]
  },
  {
   "cell_type": "code",
   "execution_count": 8,
   "metadata": {},
   "outputs": [
    {
     "name": "stdout",
     "output_type": "stream",
     "text": [
      "X: Tensor(\"X:0\", shape=(12288, ?), dtype=float32)\n",
      "Y: Tensor(\"Y:0\", shape=(6, ?), dtype=float32)\n"
     ]
    }
   ],
   "source": [
    "X,Y = create_placeholders(12288,6)\n",
    "print(\"X: \"+str(X))\n",
    "print(\"Y: \"+str(Y))"
   ]
  },
  {
   "cell_type": "markdown",
   "metadata": {},
   "source": [
    "#### 2.2  Tensorflow参数初始化\n",
    "Tensorflow中可以通过tf.get_variable()对参数进行初始化，第一个参数为参数名，第二个参数是参数的size，第三个参数是初始化的方法（W使用Xavier初始化，b使用零初始化）。\n",
    "\n",
    "注：tf.get_variable()对于没有经过tf.Variable定义的参数也可以使用，即创建变量后指定一个初始化方式"
   ]
  },
  {
   "cell_type": "markdown",
   "metadata": {},
   "source": [
    "我们先规定每一层的unit数：12288 -> 25 -> 12 -> 6"
   ]
  },
  {
   "cell_type": "code",
   "execution_count": 12,
   "metadata": {},
   "outputs": [],
   "source": [
    "def init_params():\n",
    "    \"\"\"\n",
    "    返回：\n",
    "        params - 包含W b参数的字典\n",
    "    \"\"\"\n",
    "    \n",
    "    tf.set_random_seed(1)\n",
    "    \n",
    "    W1 = tf.get_variable(\"W1\",[25,12288],initializer=tf.contrib.layers.xavier_initializer(seed=1))\n",
    "    b1 = tf.get_variable(\"b1\",[25,1],initializer=tf.zeros_initializer())\n",
    "    W2 = tf.get_variable(\"W2\",[12,25],initializer=tf.contrib.layers.xavier_initializer(seed=1))\n",
    "    b2 = tf.get_variable(\"b2\",[12,1],initializer=tf.zeros_initializer())\n",
    "    W3 = tf.get_variable(\"W3\",[6,12],initializer=tf.contrib.layers.xavier_initializer(seed=1))\n",
    "    b3 = tf.get_variable(\"b3\",[6,1],initializer=tf.zeros_initializer())\n",
    "    \n",
    "    params = {\n",
    "        \"W1\":W1,\"b1\":b1,\n",
    "        \"W2\":W2,\"b2\":b2,\n",
    "        \"W3\":W3,\"b3\":b3\n",
    "    }\n",
    "    return params"
   ]
  },
  {
   "cell_type": "markdown",
   "metadata": {},
   "source": [
    "测试："
   ]
  },
  {
   "cell_type": "code",
   "execution_count": 13,
   "metadata": {},
   "outputs": [
    {
     "name": "stdout",
     "output_type": "stream",
     "text": [
      "W1 : <tf.Variable 'W1:0' shape=(25, 12288) dtype=float32_ref>\n",
      "b1 : <tf.Variable 'b1:0' shape=(25, 1) dtype=float32_ref>\n",
      "W2 : <tf.Variable 'W2:0' shape=(12, 25) dtype=float32_ref>\n",
      "b2 : <tf.Variable 'b2:0' shape=(12, 1) dtype=float32_ref>\n"
     ]
    }
   ],
   "source": [
    "tf.reset_default_graph()\n",
    "\n",
    "with tf.Session() as session:\n",
    "    params = init_params()\n",
    "    print(\"W1 : \"+str(params[\"W1\"]))\n",
    "    print(\"b1 : \"+str(params[\"b1\"]))\n",
    "    print(\"W2 : \"+str(params[\"W2\"]))\n",
    "    print(\"b2 : \"+str(params[\"b2\"]))"
   ]
  },
  {
   "cell_type": "markdown",
   "metadata": {},
   "source": [
    "#### 2.3 前向传播（Forward Prop）\n",
    "对于我们之前定义的NN结构而言，在Tensorflow中FP只需要计算到Z3即可，因为tensorflow内置的计算cost function的函数的一个参数就是线性层的输出Z3"
   ]
  },
  {
   "cell_type": "code",
   "execution_count": 14,
   "metadata": {},
   "outputs": [],
   "source": [
    "def forward_propagation(X,params):\n",
    "    \"\"\"\n",
    "    返回：\n",
    "        Z3 - 第三层的Linear输出\n",
    "    \"\"\"\n",
    "    W1 = params[\"W1\"]\n",
    "    b1 = params[\"b1\"]\n",
    "    W2 = params[\"W2\"]\n",
    "    b2 = params[\"b2\"]\n",
    "    W3 = params[\"W3\"]\n",
    "    b3 = params[\"b3\"]\n",
    "    \n",
    "    Z1 = tf.matmul(W1,X)+b1\n",
    "    A1 = tf.nn.relu(Z1)\n",
    "    Z2 = tf.matmul(W2,A1)+b2\n",
    "    A2 = tf.nn.relu(Z2)\n",
    "    Z3 = tf.matmul(W3,A2)+b3\n",
    "    \n",
    "    return Z3"
   ]
  },
  {
   "cell_type": "code",
   "execution_count": 15,
   "metadata": {},
   "outputs": [
    {
     "name": "stdout",
     "output_type": "stream",
     "text": [
      "Z3 : Tensor(\"add_2:0\", shape=(6, ?), dtype=float32)\n"
     ]
    }
   ],
   "source": [
    "# 测试\n",
    "tf.reset_default_graph()\n",
    "with tf.Session() as session:\n",
    "    X,Y = create_placeholders(12288,6)\n",
    "    params = init_params()\n",
    "    Z3 = forward_propagation(X,params)\n",
    "    print(\"Z3 : \"+str(Z3))"
   ]
  },
  {
   "cell_type": "markdown",
   "metadata": {},
   "source": [
    "#### 2.4 Compute Cost"
   ]
  },
  {
   "cell_type": "markdown",
   "metadata": {},
   "source": [
    "tf.nn.softmax_cross_entropy_with_logits(logits=..., labels==...)内置了softmax的计算和交叉熵函数的计算，所以FP只需要计算到输出层的线性输出即可。\n",
    "同时需要注意的是，该函数logits和labels的size是[batch_size,n_y]，所以需要将Z3和Y进行转置。"
   ]
  },
  {
   "cell_type": "code",
   "execution_count": 20,
   "metadata": {},
   "outputs": [],
   "source": [
    "def compute_cost(Z3,Y):\n",
    "    logits = tf.transpose(Z3)\n",
    "    labels = tf.transpose(Y)\n",
    "    \n",
    "    cost = tf.reduce_mean(tf.nn.softmax_cross_entropy_with_logits(logits=logits,labels=labels))\n",
    "    \n",
    "    return cost"
   ]
  },
  {
   "cell_type": "code",
   "execution_count": 22,
   "metadata": {},
   "outputs": [
    {
     "name": "stdout",
     "output_type": "stream",
     "text": [
      "cost : Tensor(\"Mean:0\", shape=(), dtype=float32)\n"
     ]
    }
   ],
   "source": [
    "# 测试\n",
    "tf.reset_default_graph()\n",
    "with tf.Session() as session:\n",
    "    X,Y = create_placeholders(12288,6)\n",
    "    params = init_params()\n",
    "    Z3 = forward_propagation(X,params)\n",
    "    cost = compute_cost(Z3,Y)\n",
    "    print(\"cost : \"+str(cost))"
   ]
  },
  {
   "cell_type": "markdown",
   "metadata": {},
   "source": [
    "#### 2.5 梯度下降\n",
    "不需要像之前手动完成后向传播，只需要以下两条语句：\n",
    "\n",
    "（1）构造optimizer\n",
    "\n",
    "optimizer = tf.train.AdamOptimizer(learning_rate=learning_rate).minimize(cost)\n",
    "\n",
    "（2）在session中，运行optimizer和cost\n",
    "\n",
    " a,minibatchCost = session.run([optimizer,cost],feed_dict={X:minibatch_X,Y:minibatch_Y})\n",
    " 其中第一个返回值是optimizer的评分，通常可以用下划线表示，第二个参数为优化后的cost。\n",
    " "
   ]
  },
  {
   "cell_type": "markdown",
   "metadata": {},
   "source": [
    "#### 2.6 Model"
   ]
  },
  {
   "cell_type": "code",
   "execution_count": 34,
   "metadata": {},
   "outputs": [],
   "source": [
    "def model(X_train,Y_train,X_test,Y_test,learning_rate=0.001,\n",
    "         num_epochs=1500,minibatch_size=32,print_cost=True,is_plot=True):\n",
    "    \n",
    "    (n_x,m) = X_train.shape\n",
    "    (n_y,m) = Y_train.shape\n",
    "    ops.reset_default_graph()\n",
    "    tf.set_random_seed(1)\n",
    "    seed = 3\n",
    "    costs = []\n",
    "    \n",
    "    # Construct Computation Graph\n",
    "    \n",
    "    # Create placeholders\n",
    "    X,Y = create_placeholders(n_x,n_y)\n",
    "    # initialize parameters\n",
    "    params = init_params()\n",
    "    # Forward P\n",
    "    Z3 = forward_propagation(X,params)\n",
    "    # Compute Cost\n",
    "    cost = compute_cost(Z3,Y)\n",
    "    \n",
    "    # create optimizer\n",
    "    optimizer = tf.train.AdamOptimizer(learning_rate=learning_rate).minimize(cost)\n",
    "    \n",
    "    # initialize all parameters\n",
    "    init = tf.global_variables_initializer()\n",
    "    \n",
    "    with tf.Session() as session:\n",
    "        session.run(init)\n",
    "        \n",
    "        for i in range(num_epochs):\n",
    "            epoch_cost = 0\n",
    "            num_minibatches = m // minibatch_size\n",
    "            seed = seed + 1\n",
    "            minibatches = tf_utils.random_mini_batches(X_train,Y_train,minibatch_size)\n",
    "            \n",
    "            for minibatch in minibatches:\n",
    "                (mini_batch_X,mini_batch_Y) = minibatch\n",
    "                _,batchCost = session.run([optimizer,cost],feed_dict={X:mini_batch_X,Y:mini_batch_Y})\n",
    "                epoch_cost = epoch_cost + batchCost/num_minibatches\n",
    "            if i%5==0:\n",
    "                costs.append(epoch_cost)\n",
    "                if print_cost and i%100==0:\n",
    "                    print(\"Epoch \"+str(i)+\" cost:\"+str(epoch_cost))\n",
    "        if is_plot:\n",
    "            plt.plot(np.squeeze(costs))\n",
    "            plt.title(\"learning_rate = \"+str(learning_rate))\n",
    "            plt.xlabel(\"#Epoch\")\n",
    "            plt.ylabel(\"Cost\")\n",
    "            plt.show()\n",
    "        \n",
    "        # Get parameters\n",
    "        params = session.run(params)\n",
    "\n",
    "        # Correct prediction\n",
    "        correct_prediction = tf.equal(tf.argmax(Z3,axis=0),tf.argmax(Y,axis=0))\n",
    "\n",
    "        # Accuracy \n",
    "        accuracy = tf.reduce_mean(tf.cast(correct_prediction,\"float\"))\n",
    "\n",
    "        print(\"Training set Accuracy:\"+str(accuracy.eval({X:X_train,Y:Y_train})))\n",
    "\n",
    "        print(\"Dev set Accuracy:\"+str(accuracy.eval({X:X_test,Y:Y_test})))\n",
    "        #print(\"Dev set Accuracy:\"+str(session.run(accuracy,feed_dict={X:X_test,Y:Y_test})))\n",
    "\n",
    "    return params"
   ]
  },
  {
   "cell_type": "code",
   "execution_count": 35,
   "metadata": {},
   "outputs": [
    {
     "name": "stdout",
     "output_type": "stream",
     "text": [
      "Epoch 0 cost:2.0509920228611334\n",
      "Epoch 100 cost:0.8120813423937017\n",
      "Epoch 200 cost:0.502268907698718\n",
      "Epoch 300 cost:0.5501551203655474\n",
      "Epoch 400 cost:0.3172829945882161\n",
      "Epoch 500 cost:0.2395849349823865\n",
      "Epoch 600 cost:0.21024577500242178\n",
      "Epoch 700 cost:0.3609322573650968\n",
      "Epoch 800 cost:0.16447213376787578\n",
      "Epoch 900 cost:0.17161731958163504\n",
      "Epoch 1000 cost:0.10966196272409323\n",
      "Epoch 1100 cost:0.2211866189133037\n",
      "Epoch 1200 cost:0.025791002084698644\n",
      "Epoch 1300 cost:0.036872588831818466\n",
      "Epoch 1400 cost:0.034014826908594725\n"
     ]
    },
    {
     "data": {
      "image/png": "[encoded data removed]",
      "text/plain": [
       "<Figure size 432x288 with 1 Axes>"
      ]
     },
     "metadata": {
      "needs_background": "light"
     },
     "output_type": "display_data"
    },
    {
     "name": "stdout",
     "output_type": "stream",
     "text": [
      "Training set Accuracy:0.9222222\n",
      "Dev set Accuracy:0.73333335\n",
      "Execution time:443.7400265329551 s\n"
     ]
    }
   ],
   "source": [
    "# start time\n",
    "start_time = time.clock()\n",
    "# train\n",
    "params = model(X_train,Y_train,X_test,Y_test)\n",
    "# end time \n",
    "end_time = time.clock()\n",
    "print(\"Execution time:\"+str(end_time-start_time)+\" s\")"
   ]
  },
  {
   "cell_type": "code",
   "execution_count": null,
   "metadata": {},
   "outputs": [],
   "source": []
  }
 ],
 "metadata": {
  "kernelspec": {
   "display_name": "Python 3",
   "language": "python",
   "name": "python3"
  },
  "language_info": {
   "codemirror_mode": {
    "name": "ipython",
    "version": 3
   },
   "file_extension": ".py",
   "mimetype": "text/x-python",
   "name": "python",
   "nbconvert_exporter": "python",
   "pygments_lexer": "ipython3",
   "version": "3.6.10"
  }
 },
 "nbformat": 4,
 "nbformat_minor": 4
}

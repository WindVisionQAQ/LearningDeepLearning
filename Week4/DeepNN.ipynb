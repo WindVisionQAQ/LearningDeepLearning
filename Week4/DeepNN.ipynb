{
 "cells": [
  {
   "cell_type": "markdown",
   "metadata": {},
   "source": [
    "### Week 4 project\n",
    "要求分别建立浅层神经网络（2 layer）和深层神经网络，完成FP BP过程，最终比较两个模型的效果"
   ]
  },
  {
   "cell_type": "markdown",
   "metadata": {},
   "source": [
    "### 库文件"
   ]
  },
  {
   "cell_type": "code",
   "execution_count": 3,
   "metadata": {},
   "outputs": [],
   "source": [
    "import numpy as np\n",
    "import h5py\n",
    "import matplotlib.pyplot as plt\n",
    "import testCases\n",
    "from dnn_utils import sigmoid, sigmoid_backward, relu, relu_backward\n",
    "import lr_utils\n",
    "\n",
    "\n",
    "# 验证结果 使用seed\n",
    "np.random.seed(1)\n",
    "\n"
   ]
  },
  {
   "cell_type": "markdown",
   "metadata": {},
   "source": [
    "### 初始化参数\n",
    "先完成浅层神经网络的参数初始化："
   ]
  },
  {
   "cell_type": "code",
   "execution_count": 4,
   "metadata": {},
   "outputs": [],
   "source": [
    "def init_params(n_x,n_h,n_y):\n",
    "    \"\"\"\n",
    "    init_params用于初始化浅层NN的参数\n",
    "    函数参数：\n",
    "        n_x - 输入层单元数\n",
    "        n_h - 隐藏层单元数\n",
    "        n_y - 输出层单元数\n",
    "    返回结果：\n",
    "        params - 包含W1,W2,b1,b2参数的字典\n",
    "    \"\"\"\n",
    "    W1 = np.random.randn(n_h,n_x)*0.01\n",
    "    b1 = np.zeros((n_h,1))\n",
    "    W2 = np.random.randn(n_y,n_h)*0.01\n",
    "    b2 = np.zeros((n_y,1))\n",
    "    \n",
    "    params = {\n",
    "        \"W1\":W1,\n",
    "        \"b1\":b1,\n",
    "        \"W2\":W2,\n",
    "        \"b2\":b2\n",
    "    }\n",
    "    return params"
   ]
  },
  {
   "cell_type": "markdown",
   "metadata": {},
   "source": [
    "测试："
   ]
  },
  {
   "cell_type": "code",
   "execution_count": 5,
   "metadata": {},
   "outputs": [
    {
     "name": "stdout",
     "output_type": "stream",
     "text": [
      "=============Test init_params==============\n",
      "W1: [[ 0.01624345 -0.00611756 -0.00528172]\n",
      " [-0.01072969  0.00865408 -0.02301539]]\n",
      "b1: [[0.]\n",
      " [0.]]\n",
      "W2: [[ 0.01744812 -0.00761207]]\n",
      "b2: [[0.]]\n"
     ]
    }
   ],
   "source": [
    "print(\"=============Test init_params==============\")\n",
    "params = init_params(3,2,1)\n",
    "print(\"W1: \"+str(params[\"W1\"]))\n",
    "print(\"b1: \"+str(params[\"b1\"]))\n",
    "print(\"W2: \"+str(params[\"W2\"]))\n",
    "print(\"b2: \"+str(params[\"b2\"]))"
   ]
  },
  {
   "cell_type": "code",
   "execution_count": 6,
   "metadata": {},
   "outputs": [],
   "source": [
    "def init_params_deep(layer_dims):\n",
    "    \"\"\"\n",
    "    参数:\n",
    "        layer_dims:列表结构，存有每层的单元个数\n",
    "    返回：\n",
    "        params: 存有W b的字典参数\n",
    "    \"\"\"\n",
    "    np.random.seed(3)\n",
    "    params={}\n",
    "    for i in range(1,len(layer_dims)):\n",
    "        params[\"W\"+str(i)] = np.random.randn(layer_dims[i],layer_dims[i-1])*0.01\n",
    "        params[\"b\"+str(i)] = np.zeros((layer_dims[i],1))\n",
    "    return params"
   ]
  },
  {
   "cell_type": "markdown",
   "metadata": {},
   "source": [
    "测试init_params_deep"
   ]
  },
  {
   "cell_type": "code",
   "execution_count": 7,
   "metadata": {},
   "outputs": [
    {
     "name": "stdout",
     "output_type": "stream",
     "text": [
      "W1: [[ 0.01788628  0.0043651   0.00096497 -0.01863493 -0.00277388]\n",
      " [-0.00354759 -0.00082741 -0.00627001 -0.00043818 -0.00477218]\n",
      " [-0.01313865  0.00884622  0.00881318  0.01709573  0.00050034]\n",
      " [-0.00404677 -0.0054536  -0.01546477  0.00982367 -0.01101068]]\n",
      "b1: [[0.]\n",
      " [0.]\n",
      " [0.]\n",
      " [0.]]\n",
      "W2: [[-0.01185047 -0.0020565   0.01486148  0.00236716]\n",
      " [-0.01023785 -0.00712993  0.00625245 -0.00160513]\n",
      " [-0.00768836 -0.00230031  0.00745056  0.01976111]]\n",
      "b2: [[0.]\n",
      " [0.]\n",
      " [0.]]\n"
     ]
    }
   ],
   "source": [
    "layer_dims = [5,4,3]\n",
    "params = init_params_deep(layer_dims)\n",
    "print(\"W1: \"+str(params[\"W1\"]))\n",
    "print(\"b1: \"+str(params[\"b1\"]))\n",
    "print(\"W2: \"+str(params[\"W2\"]))\n",
    "print(\"b2: \"+str(params[\"b2\"]))"
   ]
  },
  {
   "cell_type": "markdown",
   "metadata": {},
   "source": [
    "### Forward prop"
   ]
  },
  {
   "cell_type": "code",
   "execution_count": 8,
   "metadata": {},
   "outputs": [],
   "source": [
    "def linear_forward(A,W,b):\n",
    "    Z = np.dot(W,A)+b\n",
    "    cache = (A,W,b)\n",
    "    return Z,cache"
   ]
  },
  {
   "cell_type": "markdown",
   "metadata": {},
   "source": [
    "测试linear_forward"
   ]
  },
  {
   "cell_type": "code",
   "execution_count": 9,
   "metadata": {},
   "outputs": [
    {
     "name": "stdout",
     "output_type": "stream",
     "text": [
      "Z : [[ 3.26295337 -1.23429987]]\n"
     ]
    }
   ],
   "source": [
    "A,W,b = testCases.linear_forward_test_case()\n",
    "Z,linear_cache = linear_forward(A,W,b)\n",
    "print(\"Z : \"+str(Z))"
   ]
  },
  {
   "cell_type": "code",
   "execution_count": 10,
   "metadata": {},
   "outputs": [],
   "source": [
    "def linear_activation_forward(A_prev,W,b,activation):\n",
    "    \"\"\"\n",
    "    返回：\n",
    "        A - activation后的结果\n",
    "        cache - 包含linear_cache(A,W,b)和activation cache(Z)\n",
    "    \"\"\"\n",
    "    Z,linear_cache = linear_forward(A_prev,W,b)\n",
    "    if activation == \"sigmoid\":\n",
    "        A,activation_cache = sigmoid(Z)\n",
    "    elif activation == \"relu\":\n",
    "        A,activation_cache = relu(Z)\n",
    "    \n",
    "    cache = (linear_cache,activation_cache)\n",
    "    return A,cache"
   ]
  },
  {
   "cell_type": "markdown",
   "metadata": {},
   "source": [
    "测试Linear_activation_forward"
   ]
  },
  {
   "cell_type": "code",
   "execution_count": 11,
   "metadata": {},
   "outputs": [
    {
     "name": "stdout",
     "output_type": "stream",
     "text": [
      "sigmoid A=[[0.96890023 0.11013289]]\n",
      "relu A=[[3.43896131 0.        ]]\n"
     ]
    }
   ],
   "source": [
    "A_prev,W,b = testCases.linear_activation_forward_test_case()\n",
    "A,cache = linear_activation_forward(A_prev,W,b,activation=\"sigmoid\")\n",
    "print(\"sigmoid A=\"+str(A))\n",
    "A,cache = linear_activation_forward(A_prev,W,b,activation=\"relu\")\n",
    "print(\"relu A=\"+str(A))\n"
   ]
  },
  {
   "cell_type": "code",
   "execution_count": 12,
   "metadata": {},
   "outputs": [],
   "source": [
    "def L_model_forward(X,params):\n",
    "    \"\"\"\n",
    "    返回：\n",
    "        AL - 最后一层的输出\n",
    "        caches - 包含每层的cache\n",
    "    \"\"\"\n",
    "    caches = []\n",
    "    layer_num = len(params)//2\n",
    "    A = X\n",
    "    for i in range(1,layer_num):\n",
    "        A_prev = A\n",
    "        A, cache= linear_activation_forward(A_prev,params[\"W\"+str(i)],params[\"b\"+str(i)],activation=\"relu\")\n",
    "        caches.append(cache)\n",
    "    AL, cache = linear_activation_forward(A,params[\"W\"+str(layer_num)],params[\"b\"+str(layer_num)],activation=\"sigmoid\")\n",
    "    caches.append(cache)\n",
    "    return AL,caches"
   ]
  },
  {
   "cell_type": "markdown",
   "metadata": {},
   "source": [
    "测试L_model_forward"
   ]
  },
  {
   "cell_type": "code",
   "execution_count": 13,
   "metadata": {},
   "outputs": [
    {
     "name": "stdout",
     "output_type": "stream",
     "text": [
      "AL = [[0.17007265 0.2524272 ]]\n",
      "caches length: 2\n"
     ]
    }
   ],
   "source": [
    "X,params = testCases.L_model_forward_test_case()\n",
    "AL,caches = L_model_forward(X,params)\n",
    "print(\"AL = \"+str(AL))\n",
    "print(\"caches length: \"+ str(len(caches)))"
   ]
  },
  {
   "cell_type": "markdown",
   "metadata": {},
   "source": [
    "### 计算cost"
   ]
  },
  {
   "cell_type": "code",
   "execution_count": 14,
   "metadata": {},
   "outputs": [],
   "source": [
    "def compute_cost(AL,Y):\n",
    "    m = Y.shape[1]\n",
    "    temp = np.multiply(np.log(AL),Y)+np.multiply(np.log(1-AL),1-Y)\n",
    "    cost = -np.sum(temp)/m\n",
    "    cost = np.squeeze(cost)\n",
    "    return cost"
   ]
  },
  {
   "cell_type": "markdown",
   "metadata": {},
   "source": [
    "测试compute_cost"
   ]
  },
  {
   "cell_type": "code",
   "execution_count": 15,
   "metadata": {},
   "outputs": [
    {
     "name": "stdout",
     "output_type": "stream",
     "text": [
      "cost = 0.414931599615397\n"
     ]
    }
   ],
   "source": [
    "Y,AL = testCases.compute_cost_test_case()\n",
    "cost = compute_cost(AL,Y)\n",
    "print(\"cost = \"+str(cost))"
   ]
  },
  {
   "cell_type": "markdown",
   "metadata": {},
   "source": [
    "### BP"
   ]
  },
  {
   "cell_type": "code",
   "execution_count": 16,
   "metadata": {},
   "outputs": [],
   "source": [
    "def linear_backward(dZ,cache):\n",
    "    \"\"\"\n",
    "    linear_backward用于根据dZ[l]计算dA[l-1],dW[l],db[l]\n",
    "    \"\"\"\n",
    "    A_prev,W,b = cache\n",
    "    m = A_prev.shape[1]\n",
    "    dW = np.dot(dZ,A_prev.T)/m\n",
    "    db = np.sum(dZ,axis=1,keepdims=True)/m\n",
    "    dA_prev = np.dot(W.T,dZ)\n",
    "    \n",
    "    return dA_prev,dW,db\n",
    "    "
   ]
  },
  {
   "cell_type": "markdown",
   "metadata": {},
   "source": [
    "测试linear_backward:"
   ]
  },
  {
   "cell_type": "code",
   "execution_count": 17,
   "metadata": {},
   "outputs": [
    {
     "name": "stdout",
     "output_type": "stream",
     "text": [
      "dA_prev: [[ 0.51822968 -0.19517421]\n",
      " [-0.40506361  0.15255393]\n",
      " [ 2.37496825 -0.89445391]]\n",
      "dW: [[-0.10076895  1.40685096  1.64992505]]\n",
      "db: [[0.50629448]]\n"
     ]
    }
   ],
   "source": [
    "dZ,cache = testCases.linear_backward_test_case()\n",
    "dA_prev, dW, db = linear_backward(dZ,cache)\n",
    "print(\"dA_prev: \"+str(dA_prev))\n",
    "print(\"dW: \"+str(dW))\n",
    "print(\"db: \"+str(db))\n"
   ]
  },
  {
   "cell_type": "code",
   "execution_count": 18,
   "metadata": {},
   "outputs": [],
   "source": [
    "def linear_activation_backward(dA,caches,activation=\"relu\"):\n",
    "    \"\"\"\n",
    "    参数：\n",
    "        dA - 略\n",
    "        caches - 包含linear_cache和activation_cache\n",
    "        activation - 略\n",
    "    返回：\n",
    "        dA_prev, dW, db\n",
    "    \"\"\"\n",
    "    linear_cache, activation_cache = caches\n",
    "    if activation==\"relu\":\n",
    "        dZ = relu_backward(dA,activation_cache)\n",
    "    elif activation==\"sigmoid\":\n",
    "        dZ = sigmoid_backward(dA,activation_cache)\n",
    "    return linear_backward(dZ,linear_cache)"
   ]
  },
  {
   "cell_type": "code",
   "execution_count": 19,
   "metadata": {},
   "outputs": [
    {
     "name": "stdout",
     "output_type": "stream",
     "text": [
      "==============测试linear_activation_backward==============\n",
      "sigmoid:\n",
      "dA_prev = [[ 0.11017994  0.01105339]\n",
      " [ 0.09466817  0.00949723]\n",
      " [-0.05743092 -0.00576154]]\n",
      "dW = [[ 0.10266786  0.09778551 -0.01968084]]\n",
      "db = [[-0.05729622]]\n",
      "\n",
      "relu:\n",
      "dA_prev = [[ 0.44090989 -0.        ]\n",
      " [ 0.37883606 -0.        ]\n",
      " [-0.2298228   0.        ]]\n",
      "dW = [[ 0.44513824  0.37371418 -0.10478989]]\n",
      "db = [[-0.20837892]]\n"
     ]
    }
   ],
   "source": [
    "#测试linear_activation_backward\n",
    "print(\"==============测试linear_activation_backward==============\")\n",
    "AL, linear_activation_cache = testCases.linear_activation_backward_test_case()\n",
    " \n",
    "dA_prev, dW, db = linear_activation_backward(AL, linear_activation_cache, activation = \"sigmoid\")\n",
    "print (\"sigmoid:\")\n",
    "print (\"dA_prev = \"+ str(dA_prev))\n",
    "print (\"dW = \" + str(dW))\n",
    "print (\"db = \" + str(db) + \"\\n\")\n",
    " \n",
    "dA_prev, dW, db = linear_activation_backward(AL, linear_activation_cache, activation = \"relu\")\n",
    "print (\"relu:\")\n",
    "print (\"dA_prev = \"+ str(dA_prev))\n",
    "print (\"dW = \" + str(dW))\n",
    "print (\"db = \" + str(db))\n"
   ]
  },
  {
   "cell_type": "code",
   "execution_count": 20,
   "metadata": {},
   "outputs": [],
   "source": [
    "def L_model_backward(AL,Y,caches):\n",
    "    \"\"\"\n",
    "    返回：\n",
    "        grads - 包含各层dW，db的字典\n",
    "    \"\"\"\n",
    "    grads = {}\n",
    "    dAL = -(np.divide(Y,AL) - np.divide(1-Y,1-AL))\n",
    "    grads[\"dAL\"] = dAL\n",
    "    L = len(caches)\n",
    "    dA_prev,dW,db= linear_activation_backward(dAL,caches[L-1],activation=\"sigmoid\")\n",
    "    grads[\"dW\"+str(L)] = dW\n",
    "    grads[\"db\"+str(L)] = db\n",
    "    grads[\"dA\"+str(L-1)] = dA_prev\n",
    "    i = L-1\n",
    "    while(i>=1):\n",
    "        dA = dA_prev\n",
    "        dA_prev,dW,db = linear_activation_backward(dA,caches[i-1],activation=\"relu\")\n",
    "        grads[\"dW\"+str(i)] = dW\n",
    "        grads[\"db\"+str(i)] = db\n",
    "        grads[\"dA\"+str(i-1)] = dA_prev\n",
    "        i = i - 1\n",
    "    return grads"
   ]
  },
  {
   "cell_type": "code",
   "execution_count": 21,
   "metadata": {},
   "outputs": [
    {
     "name": "stdout",
     "output_type": "stream",
     "text": [
      "==============测试L_model_backward==============\n",
      "dW1 = [[0.41010002 0.07807203 0.13798444 0.10502167]\n",
      " [0.         0.         0.         0.        ]\n",
      " [0.05283652 0.01005865 0.01777766 0.0135308 ]]\n",
      "db1 = [[-0.22007063]\n",
      " [ 0.        ]\n",
      " [-0.02835349]]\n",
      "dA1 = [[ 0.12913162 -0.44014127]\n",
      " [-0.14175655  0.48317296]\n",
      " [ 0.01663708 -0.05670698]]\n"
     ]
    }
   ],
   "source": [
    "#测试L_model_backward\n",
    "print(\"==============测试L_model_backward==============\")\n",
    "AL, Y_assess, caches = testCases.L_model_backward_test_case()\n",
    "grads = L_model_backward(AL, Y_assess, caches)\n",
    "print (\"dW1 = \"+ str(grads[\"dW1\"]))\n",
    "print (\"db1 = \"+ str(grads[\"db1\"]))\n",
    "print (\"dA1 = \"+ str(grads[\"dA1\"]))\n"
   ]
  },
  {
   "cell_type": "markdown",
   "metadata": {},
   "source": [
    "### Gradient Descent"
   ]
  },
  {
   "cell_type": "code",
   "execution_count": 22,
   "metadata": {},
   "outputs": [],
   "source": [
    "def update_params(params,grads,learning_rate):\n",
    "    layer_num = len(params) // 2\n",
    "    for i in range(1,layer_num+1):\n",
    "        params[\"W\"+str(i)] = params[\"W\"+str(i)] - learning_rate * grads[\"dW\"+str(i)]\n",
    "        params[\"b\"+str(i)] = params[\"b\"+str(i)] - learning_rate * grads[\"db\"+str(i)]\n",
    "    return params    "
   ]
  },
  {
   "cell_type": "markdown",
   "metadata": {},
   "source": [
    "测试梯度下降"
   ]
  },
  {
   "cell_type": "code",
   "execution_count": 24,
   "metadata": {},
   "outputs": [
    {
     "name": "stdout",
     "output_type": "stream",
     "text": [
      "==============测试update_parameters==============\n",
      "W1 = [[-0.59562069 -0.09991781 -2.14584584  1.82662008]\n",
      " [-1.76569676 -0.80627147  0.51115557 -1.18258802]\n",
      " [-1.0535704  -0.86128581  0.68284052  2.20374577]]\n",
      "b1 = [[-0.04659241]\n",
      " [-1.28888275]\n",
      " [ 0.53405496]]\n",
      "W2 = [[-0.55569196  0.0354055   1.32964895]]\n",
      "b2 = [[-0.84610769]]\n"
     ]
    }
   ],
   "source": [
    "#测试update_parameters\n",
    "print(\"==============测试update_parameters==============\")\n",
    "parameters, grads = testCases.update_parameters_test_case()\n",
    "parameters = update_params(parameters, grads, 0.1)\n",
    " \n",
    "print (\"W1 = \"+ str(parameters[\"W1\"]))\n",
    "print (\"b1 = \"+ str(parameters[\"b1\"]))\n",
    "print (\"W2 = \"+ str(parameters[\"W2\"]))\n",
    "print (\"b2 = \"+ str(parameters[\"b2\"]))\n",
    "\n"
   ]
  },
  {
   "cell_type": "code",
   "execution_count": 32,
   "metadata": {},
   "outputs": [],
   "source": [
    "def two_layer_model(X,Y,layer_dims,learning_rate=0.0075,num_iterations=3000,print_cost=False,isPlot=True):\n",
    "    np.random.seed(1)\n",
    "    grads={}\n",
    "    costs=[]\n",
    "    (n_x,n_h,n_y) = layer_dims\n",
    "    \n",
    "    params = init_params(n_x,n_h,n_y)\n",
    "    W1 = params[\"W1\"]\n",
    "    b1 = params[\"b1\"]\n",
    "    W2 = params[\"W2\"]\n",
    "    b2 = params[\"b2\"]\n",
    "    \n",
    "    for i in range(num_iterations):\n",
    "        A1,cache1 = linear_activation_forward(X,W1,b1,\"relu\")\n",
    "        A2,cache2 = linear_activation_forward(A1,W2,b2,\"sigmoid\")\n",
    "        \n",
    "        cost = compute_cost(A2,Y)\n",
    "        \n",
    "        dA2 = -(np.divide(Y,A2) - np.divide(1-Y,1-A2))\n",
    "        dA1,dW2,db2 = linear_activation_backward(dA2,cache2,\"sigmoid\")\n",
    "        dA0,dW1,db1 = linear_activation_backward(dA1,cache1,\"relu\")\n",
    "        \n",
    "        grads = {\n",
    "            \"dW1\":dW1,\n",
    "            \"db1\":db1,\n",
    "            \"dW2\":dW2,\n",
    "            \"db2\":db2\n",
    "        }\n",
    "        params = update_params(params,grads,learning_rate)\n",
    "        W1 = params[\"W1\"]\n",
    "        W2 = params[\"W2\"]\n",
    "        b1 = params[\"b1\"]\n",
    "        b2 = params[\"b2\"]\n",
    "        if i % 100 == 0:\n",
    "            costs.append(cost)\n",
    "            if print_cost:\n",
    "                print(\"Iteration \"+str(i)+\" cost:\"+str(cost))\n",
    "    if isPlot:\n",
    "        plt.plot(np.squeeze(costs))\n",
    "        plt.ylabel(\"cost\")\n",
    "        plt.xlabel(\"#Iteration\")\n",
    "        plt.title(\"Learning Rate = \"+str(learning_rate))\n",
    "        plt.show()\n",
    "    return params\n",
    "    \n",
    "        \n",
    "        "
   ]
  },
  {
   "cell_type": "markdown",
   "metadata": {},
   "source": [
    "### 加载数据"
   ]
  },
  {
   "cell_type": "code",
   "execution_count": 33,
   "metadata": {},
   "outputs": [],
   "source": [
    "train_set_x_orig , train_set_y , test_set_x_orig , test_set_y , classes = lr_utils.load_dataset()\n",
    "\n",
    "train_x_flatten = train_set_x_orig.reshape(train_set_x_orig.shape[0], -1).T \n",
    "test_x_flatten = test_set_x_orig.reshape(test_set_x_orig.shape[0], -1).T\n",
    "\n",
    "train_x = train_x_flatten / 255\n",
    "train_y = train_set_y\n",
    "test_x = test_x_flatten / 255\n",
    "test_y = test_set_y\n",
    "\n"
   ]
  },
  {
   "cell_type": "markdown",
   "metadata": {},
   "source": [
    "### 使用两层网络训练"
   ]
  },
  {
   "cell_type": "code",
   "execution_count": 34,
   "metadata": {},
   "outputs": [
    {
     "name": "stdout",
     "output_type": "stream",
     "text": [
      "Iteration 0 cost:0.6930497356599891\n",
      "Iteration 100 cost:0.6464320953428849\n",
      "Iteration 200 cost:0.6325140647912677\n",
      "Iteration 300 cost:0.6015024920354665\n",
      "Iteration 400 cost:0.5601966311605748\n",
      "Iteration 500 cost:0.515830477276473\n",
      "Iteration 600 cost:0.47549013139433266\n",
      "Iteration 700 cost:0.4339163151225749\n",
      "Iteration 800 cost:0.40079775362038855\n",
      "Iteration 900 cost:0.3580705011323797\n",
      "Iteration 1000 cost:0.33942815383664127\n",
      "Iteration 1100 cost:0.3052753636196264\n",
      "Iteration 1200 cost:0.2749137728213016\n",
      "Iteration 1300 cost:0.2468176821061484\n",
      "Iteration 1400 cost:0.19850735037466108\n",
      "Iteration 1500 cost:0.17448318112556646\n",
      "Iteration 1600 cost:0.17080762978095992\n",
      "Iteration 1700 cost:0.1130652456216474\n",
      "Iteration 1800 cost:0.09629426845937158\n",
      "Iteration 1900 cost:0.0834261795972687\n",
      "Iteration 2000 cost:0.07439078704319084\n",
      "Iteration 2100 cost:0.06630748132267934\n",
      "Iteration 2200 cost:0.05919329501038174\n",
      "Iteration 2300 cost:0.05336140348560556\n",
      "Iteration 2400 cost:0.048554785628770185\n"
     ]
    },
    {
     "data": {
      "image/png": "[encoded data removed]",
      "text/plain": [
       "<Figure size 432x288 with 1 Axes>"
      ]
     },
     "metadata": {
      "needs_background": "light"
     },
     "output_type": "display_data"
    }
   ],
   "source": [
    "n_x = 12288\n",
    "n_h = 7\n",
    "n_y = 1\n",
    "layers_dims = (n_x,n_h,n_y)\n",
    "\n",
    "parameters = two_layer_model(train_x, train_set_y, layers_dims,0.0075,num_iterations = 2500, print_cost=True,isPlot=True)\n",
    "\n",
    "\n"
   ]
  },
  {
   "cell_type": "markdown",
   "metadata": {},
   "source": [
    "### 预测"
   ]
  },
  {
   "cell_type": "code",
   "execution_count": 35,
   "metadata": {},
   "outputs": [],
   "source": [
    "def predict(X,y,params):\n",
    "    m = X.shape[1]\n",
    "    p = np.zeros((1,m))\n",
    "    \n",
    "    probas,caches = L_model_forward(X,params)\n",
    "    \n",
    "    for i in range(m):\n",
    "        if(probas[0,i]>0.5):\n",
    "            p[0,i] = 1\n",
    "        else:\n",
    "            p[0,i] = 0\n",
    "    acc = (np.sum(p==y))/m\n",
    "    print(\"Accuracy :\"+str(acc))\n",
    "    return p\n"
   ]
  },
  {
   "cell_type": "code",
   "execution_count": 36,
   "metadata": {},
   "outputs": [
    {
     "name": "stdout",
     "output_type": "stream",
     "text": [
      "Accuracy :1.0\n",
      "Accuracy :0.72\n"
     ]
    }
   ],
   "source": [
    "predictions_train = predict(train_x, train_y, parameters) #训练集\n",
    "predictions_test = predict(test_x, test_y, parameters) #测试集\n"
   ]
  },
  {
   "cell_type": "markdown",
   "metadata": {},
   "source": [
    "### 多层神经网络"
   ]
  },
  {
   "cell_type": "code",
   "execution_count": 51,
   "metadata": {},
   "outputs": [],
   "source": [
    "def L_layer_model(X, Y, layers_dims, learning_rate=0.0075, num_iterations=3000, print_cost=False,isPlot=True):\n",
    "\n",
    "    np.random.seed(1)\n",
    "    costs = []\n",
    "    \n",
    "    parameters = init_params_deep(layers_dims)\n",
    "    \n",
    "    for i in range(0,num_iterations):\n",
    "        AL , caches = L_model_forward(X,parameters)\n",
    "        \n",
    "        cost = compute_cost(AL,Y)\n",
    "        \n",
    "        grads = L_model_backward(AL,Y,caches)\n",
    "        \n",
    "        parameters = update_params(parameters,grads,learning_rate)\n",
    "        \n",
    "\n",
    "        if i % 100 == 0:\n",
    "            costs.append(cost)\n",
    "            if print_cost:\n",
    "                print(\"第\", i ,\"次迭代，成本值为：\" ,np.squeeze(cost))\n",
    "\n",
    "    if isPlot:\n",
    "        plt.plot(np.squeeze(costs))\n",
    "        plt.ylabel('cost')\n",
    "        plt.xlabel('iterations (per tens)')\n",
    "        plt.title(\"Learning rate =\" + str(learning_rate))\n",
    "        plt.show()\n",
    "    return parameters\n"
   ]
  },
  {
   "cell_type": "markdown",
   "metadata": {},
   "source": [
    "### 加载数据\n",
    "\n"
   ]
  },
  {
   "cell_type": "code",
   "execution_count": 57,
   "metadata": {},
   "outputs": [
    {
     "name": "stdout",
     "output_type": "stream",
     "text": [
      "(12288, 209)\n",
      "[[0.06666667 0.76862745 0.32156863 ... 0.56078431 0.08627451 0.03137255]\n",
      " [0.12156863 0.75294118 0.27843137 ... 0.60784314 0.09411765 0.10980392]\n",
      " [0.21960784 0.74509804 0.26666667 ... 0.64705882 0.09019608 0.20784314]\n",
      " ...\n",
      " [0.         0.32156863 0.54117647 ... 0.33333333 0.01568627 0.        ]\n",
      " [0.         0.31372549 0.55294118 ... 0.41960784 0.01960784 0.        ]\n",
      " [0.         0.31764706 0.55686275 ... 0.58431373 0.         0.        ]]\n"
     ]
    }
   ],
   "source": [
    "train_set_x_orig , train_set_y , test_set_x_orig , test_set_y , classes = lr_utils.load_dataset()\n",
    "\n",
    "train_x_flatten = train_set_x_orig.reshape(train_set_x_orig.shape[0], -1).T \n",
    "test_x_flatten = test_set_x_orig.reshape(test_set_x_orig.shape[0], -1).T\n",
    "\n",
    "train_x = train_x_flatten / 255\n",
    "train_y = train_set_y\n",
    "test_x = test_x_flatten / 255\n",
    "test_y = test_set_y\n",
    "\n",
    "print(train_x.shape)\n",
    "print(train_x)"
   ]
  },
  {
   "cell_type": "markdown",
   "metadata": {},
   "source": [
    "### 训练模型"
   ]
  },
  {
   "cell_type": "code",
   "execution_count": 58,
   "metadata": {},
   "outputs": [
    {
     "name": "stdout",
     "output_type": "stream",
     "text": [
      "第 0 次迭代，成本值为： 0.6931477726958\n",
      "第 100 次迭代，成本值为： 0.6780107728090446\n",
      "第 200 次迭代，成本值为： 0.6675997530076284\n",
      "第 300 次迭代，成本值为： 0.6604218729413204\n",
      "第 400 次迭代，成本值为： 0.6554578158288099\n",
      "第 500 次迭代，成本值为： 0.6520134603618388\n",
      "第 600 次迭代，成本值为： 0.649615817609133\n",
      "第 700 次迭代，成本值为： 0.6479417374612982\n",
      "第 800 次迭代，成本值为： 0.6467696408278703\n",
      "第 900 次迭代，成本值为： 0.6459469904244376\n",
      "第 1000 次迭代，成本值为： 0.6453683565180597\n",
      "第 1100 次迭代，成本值为： 0.6449605941011141\n",
      "第 1200 次迭代，成本值为： 0.6446727774747648\n",
      "第 1300 次迭代，成本值为： 0.6444693397903307\n",
      "第 1400 次迭代，成本值为： 0.6443253714906714\n",
      "第 1500 次迭代，成本值为： 0.6442233840298892\n",
      "第 1600 次迭代，成本值为： 0.6441510728582549\n",
      "第 1700 次迭代，成本值为： 0.6440997647032186\n",
      "第 1800 次迭代，成本值为： 0.6440633362006798\n",
      "第 1900 次迭代，成本值为： 0.6440374583192077\n",
      "第 2000 次迭代，成本值为： 0.6440190669815907\n",
      "第 2100 次迭代，成本值为： 0.6440059911782885\n",
      "第 2200 次迭代，成本值为： 0.6439966916973487\n",
      "第 2300 次迭代，成本值为： 0.6439900760641626\n",
      "第 2400 次迭代，成本值为： 0.6439853685643353\n"
     ]
    },
    {
     "data": {
      "image/png": "[encoded data removed]",
      "text/plain": [
       "<Figure size 432x288 with 1 Axes>"
      ]
     },
     "metadata": {
      "needs_background": "light"
     },
     "output_type": "display_data"
    }
   ],
   "source": [
    "layers_dims = [12288, 20, 7, 5, 1] #  5-layer model\n",
    "parameters = L_layer_model(train_x, train_y, layers_dims, 0.0075,num_iterations = 2500,print_cost = True,isPlot=True)\n",
    "\n"
   ]
  },
  {
   "cell_type": "code",
   "execution_count": null,
   "metadata": {},
   "outputs": [],
   "source": []
  }
 ],
 "metadata": {
  "kernelspec": {
   "display_name": "Python 3",
   "language": "python",
   "name": "python3"
  },
  "language_info": {
   "codemirror_mode": {
    "name": "ipython",
    "version": 3
   },
   "file_extension": ".py",
   "mimetype": "text/x-python",
   "name": "python",
   "nbconvert_exporter": "python",
   "pygments_lexer": "ipython3",
   "version": "3.7.4"
  }
 },
 "nbformat": 4,
 "nbformat_minor": 2
}
